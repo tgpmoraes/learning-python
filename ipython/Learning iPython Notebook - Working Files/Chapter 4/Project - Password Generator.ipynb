{
 "metadata": {
  "celltoolbar": "Slideshow",
  "name": "",
  "signature": "sha256:59eca4351983d70698c5054c378c0d66ae7271bc05f8b156750562548c83edd2"
 },
 "nbformat": 3,
 "nbformat_minor": 0,
 "worksheets": [
  {
   "cells": [
    {
     "cell_type": "markdown",
     "metadata": {
      "slideshow": {
       "slide_type": "slide"
      }
     },
     "source": [
      "<div style=\"text-align: center\">\n",
      "    <h1>Infinite Skills &mdash; Intro to Python with IPython Notebook</h1>\n",
      "    <h2>Project: Password Generator</h2>\n",
      "    <h2>James Powell &mdash; <a href=\"james@pythonquants.com\">james@pythonquants.com</a></h2>\n",
      "</div>"
     ]
    },
    {
     "cell_type": "code",
     "collapsed": false,
     "input": [
      "from IPython.display import IFrame, display\n",
      "from __future__ import division, unicode_literals"
     ],
     "language": "python",
     "metadata": {
      "slideshow": {
       "slide_type": "skip"
      }
     },
     "outputs": [],
     "prompt_number": 1
    },
    {
     "cell_type": "code",
     "collapsed": false,
     "input": [
      "IFrame('http://www.infiniteskills.com', width='100%', height=250)"
     ],
     "language": "python",
     "metadata": {
      "slideshow": {
       "slide_type": "fragment"
      }
     },
     "outputs": [
      {
       "html": [
        "\n",
        "        <iframe\n",
        "            width=\"100%\"\n",
        "            height=250\"\n",
        "            src=\"http://www.infiniteskills.com\"\n",
        "            frameborder=\"0\"\n",
        "            allowfullscreen\n",
        "        ></iframe>\n",
        "        "
       ],
       "metadata": {},
       "output_type": "pyout",
       "prompt_number": 2,
       "text": [
        "<IPython.lib.display.IFrame at 0x3b6bcc0>"
       ]
      }
     ],
     "prompt_number": 2
    },
    {
     "cell_type": "markdown",
     "metadata": {
      "slideshow": {
       "slide_type": "slide"
      }
     },
     "source": [
      "Agenda \n",
      "------\n",
      "\n",
      "Project: Password Generator\n",
      "    \n",
      "[Problem: description](#description)\n",
      "\n",
      "[Python Basics: strings, lists, booleans](#types)\n",
      "\n",
      "[Python Basics: arithmetic, boolean operations](#arithmetic)\n",
      "\n",
      "[Python Basics: control flow (if, while, for)](#controlflow)\n",
      "\n",
      "[Python Basics: simple functions](#functions)\n",
      "\n",
      "[Python Basics: importing from modules](#modules)\n",
      "\n",
      "[Python Basics: random module, string module](#modules2)\n",
      "\n",
      "[Project: writing `valid()`](#valid)\n",
      "\n",
      "[Project: writing `random_string()`](#random_string)\n",
      "\n",
      "[Project: writing `make_password()`, \"stochastic\"/\"non-deterministic\" approach](#make_password)\n",
      "\n",
      "[Project: writing `make_password2()`, \"combinatoric\"/\"deterministic\" approach](#make_password2)\n",
      "\n",
      "[Project: advanced topics](#advanced)"
     ]
    },
    {
     "cell_type": "markdown",
     "metadata": {
      "slideshow": {
       "slide_type": "slide"
      }
     },
     "source": [
      "<h2 id=\"description\">Problem: description</h2>"
     ]
    },
    {
     "cell_type": "code",
     "collapsed": false,
     "input": [
      "IFrame('http://www.schwab.com/public/schwab/banking_lending/bank_online_security.html#S1', width='100%', height=200)"
     ],
     "language": "python",
     "metadata": {
      "slideshow": {
       "slide_type": "subslide"
      }
     },
     "outputs": [
      {
       "html": [
        "\n",
        "        <iframe\n",
        "            width=\"100%\"\n",
        "            height=200\"\n",
        "            src=\"http://www.schwab.com/public/schwab/banking_lending/bank_online_security.html#S1\"\n",
        "            frameborder=\"0\"\n",
        "            allowfullscreen\n",
        "        ></iframe>\n",
        "        "
       ],
       "metadata": {},
       "output_type": "pyout",
       "prompt_number": 3,
       "text": [
        "<IPython.lib.display.IFrame at 0x3b6bf28>"
       ]
      }
     ],
     "prompt_number": 3
    },
    {
     "cell_type": "markdown",
     "metadata": {
      "slideshow": {
       "slide_type": "subslide"
      }
     },
     "source": [
      "[Comparing Bank Password Requirements](https://docs.google.com/spreadsheets/d/1Z_qscNYF4fjzKoD79FlRpTV0LOw0VxceS8F16aFJoN4/edit?pli=1#gid=0)"
     ]
    },
    {
     "cell_type": "code",
     "collapsed": false,
     "input": [
      "IFrame('https://docs.google.com/spreadsheets/d/1Z_qscNYF4fjzKoD79FlRpTV0LOw0VxceS8F16aFJoN4', width='100%', height=500)"
     ],
     "language": "python",
     "metadata": {
      "slideshow": {
       "slide_type": "fragment"
      }
     },
     "outputs": [
      {
       "html": [
        "\n",
        "        <iframe\n",
        "            width=\"100%\"\n",
        "            height=500\"\n",
        "            src=\"https://docs.google.com/spreadsheets/d/1Z_qscNYF4fjzKoD79FlRpTV0LOw0VxceS8F16aFJoN4\"\n",
        "            frameborder=\"0\"\n",
        "            allowfullscreen\n",
        "        ></iframe>\n",
        "        "
       ],
       "metadata": {},
       "output_type": "pyout",
       "prompt_number": 5,
       "text": [
        "<IPython.lib.display.IFrame at 0x3b6b630>"
       ]
      }
     ],
     "prompt_number": 5
    },
    {
     "cell_type": "markdown",
     "metadata": {
      "slideshow": {
       "slide_type": "slide"
      }
     },
     "source": [
      "Create a function, `password`, that automatically generates a password for us.\n",
      "\n",
      "The password must be subject to ALL of the following requirements:\n",
      " - It must be 8 characters long.\n",
      " \n",
      "\n",
      " - It must contain at least one uppercase character from\n",
      " \n",
      "        ABCDEFGHIJKLMNOPQRSTUVWXYZ\n",
      "        \n",
      " - It must contain at least one lowercase character from\n",
      " \n",
      "        abcdefghijklmnopqrstuvwxyz\n",
      "         \n",
      " - It must contain one punctuation mark from\n",
      " \n",
      "        !\"#$%&\\'()*+,-./:;<=>?@[\\\\]^_\\`{|}~\n",
      "        \n",
      " - It must contain one digit from\n",
      " \n",
      "        0123456789\n",
      "        \n",
      " - It must be random."
     ]
    },
    {
     "cell_type": "markdown",
     "metadata": {
      "slideshow": {
       "slide_type": "slide"
      }
     },
     "source": [
      "We provide the following examples:\n",
      "    \n",
      "    Pa$sw0rd [valid]\n",
      "    \n",
      "    pa$$w0rd [invalid; no uppercase]\n",
      "    \n",
      "    Passw0rd [invalid: no punctuation]\n",
      "    \n",
      "    Pa$w0rd  [invalid; only 7 characters]\n",
      "    "
     ]
    },
    {
     "cell_type": "markdown",
     "metadata": {
      "slideshow": {
       "slide_type": "slide"
      }
     },
     "source": [
      "<h2 id=\"types\">Python Basics: strings, lists, booleans</h2>"
     ]
    },
    {
     "cell_type": "code",
     "collapsed": false,
     "input": [
      "# a string is a Sequence of characters (*strictly, a sequence of code points for a Unicode string)\n",
      "\n",
      "name = 'James Powell'\n",
      "\n",
      "name = \"James Powell\"\n",
      "\n",
      "sentence = 'James says: \"Python is awesome!\"'\n",
      "\n",
      "sentence = \"James's IPython course is awesome!\"\n",
      "\n",
      "poem = '''\n",
      "Who first seduc'd them to that foul revolt?\n",
      "Th' infernal Serpent; he it was, whose guile\n",
      "Stird up with Envy and Revenge, deceiv'd\n",
      "'''\n",
      "\n",
      "poem = \"\"\"\n",
      "\"With narrow search; and with inspection deep\n",
      " Consider'd every Creature, which of all\n",
      " Most opportune might serve his Wiles, and found\n",
      " The Serpent suttlest Beast of all the Field.\"\n",
      "  -- Milton\n",
      "\"\"\""
     ],
     "language": "python",
     "metadata": {
      "slideshow": {
       "slide_type": "subslide"
      }
     },
     "outputs": [],
     "prompt_number": 6
    },
    {
     "cell_type": "code",
     "collapsed": false,
     "input": [
      "# we can see the length of a string\n",
      "len(name)"
     ],
     "language": "python",
     "metadata": {
      "slideshow": {
       "slide_type": "subslide"
      }
     },
     "outputs": [
      {
       "metadata": {},
       "output_type": "pyout",
       "prompt_number": 9,
       "text": [
        "12"
       ]
      }
     ],
     "prompt_number": 9
    },
    {
     "cell_type": "code",
     "collapsed": false,
     "input": [
      "# we can index into it (starting from 0)\n",
      "name[0]"
     ],
     "language": "python",
     "metadata": {
      "slideshow": {
       "slide_type": "subslide"
      }
     },
     "outputs": [
      {
       "metadata": {},
       "output_type": "pyout",
       "prompt_number": 10,
       "text": [
        "u'J'"
       ]
      }
     ],
     "prompt_number": 10
    },
    {
     "cell_type": "code",
     "collapsed": false,
     "input": [
      "# we can take a `slice` of it (lower-bound included, upper-bound not included)\n",
      "name[0:9]"
     ],
     "language": "python",
     "metadata": {
      "slideshow": {
       "slide_type": "subslide"
      }
     },
     "outputs": [
      {
       "metadata": {},
       "output_type": "pyout",
       "prompt_number": 11,
       "text": [
        "u'James Pow'"
       ]
      }
     ],
     "prompt_number": 11
    },
    {
     "cell_type": "code",
     "collapsed": false,
     "input": [
      "# we can index into it from the end (starting from the last element, -1)\n",
      "name[-1]"
     ],
     "language": "python",
     "metadata": {
      "slideshow": {
       "slide_type": "subslide"
      }
     },
     "outputs": [
      {
       "metadata": {},
       "output_type": "pyout",
       "prompt_number": 12,
       "text": [
        "u'l'"
       ]
      }
     ],
     "prompt_number": 12
    },
    {
     "cell_type": "code",
     "collapsed": false,
     "input": [
      "# we can take a `slice` starting from either end and stepping by a given amount\n",
      "name[-6:-3:2]"
     ],
     "language": "python",
     "metadata": {
      "slideshow": {
       "slide_type": "subslide"
      }
     },
     "outputs": [
      {
       "metadata": {},
       "output_type": "pyout",
       "prompt_number": 13,
       "text": [
        "u'Pw'"
       ]
      }
     ],
     "prompt_number": 13
    },
    {
     "cell_type": "code",
     "collapsed": false,
     "input": [
      "# we can iterate over characters (* code-points)\n",
      "for c in name:\n",
      "    print c"
     ],
     "language": "python",
     "metadata": {
      "slideshow": {
       "slide_type": "subslide"
      }
     },
     "outputs": [
      {
       "output_type": "stream",
       "stream": "stdout",
       "text": [
        "J\n",
        "a\n",
        "m\n",
        "e\n",
        "s\n",
        " \n",
        "P\n",
        "o\n",
        "w\n",
        "e\n",
        "l\n",
        "l\n"
       ]
      }
     ],
     "prompt_number": 14
    },
    {
     "cell_type": "code",
     "collapsed": false,
     "input": [
      "# a string has many useful methods, like `.upper`\n",
      "name.upper()"
     ],
     "language": "python",
     "metadata": {
      "slideshow": {
       "slide_type": "subslide"
      }
     },
     "outputs": [
      {
       "metadata": {},
       "output_type": "pyout",
       "prompt_number": 15,
       "text": [
        "u'JAMES POWELL'"
       ]
      }
     ],
     "prompt_number": 15
    },
    {
     "cell_type": "code",
     "collapsed": false,
     "input": [
      "# similarly, `.lower`\n",
      "name.lower()"
     ],
     "language": "python",
     "metadata": {
      "slideshow": {
       "slide_type": "subslide"
      }
     },
     "outputs": [
      {
       "metadata": {},
       "output_type": "pyout",
       "prompt_number": 16,
       "text": [
        "u'james powell'"
       ]
      }
     ],
     "prompt_number": 16
    },
    {
     "cell_type": "code",
     "collapsed": false,
     "input": [
      "# also useful is `.title`\n",
      "name.title()"
     ],
     "language": "python",
     "metadata": {
      "slideshow": {
       "slide_type": "subslide"
      }
     },
     "outputs": [
      {
       "metadata": {},
       "output_type": "pyout",
       "prompt_number": 17,
       "text": [
        "u'James Powell'"
       ]
      }
     ],
     "prompt_number": 17
    },
    {
     "cell_type": "code",
     "collapsed": false,
     "input": [
      "# we can do simple replacements\n",
      "name.replace('James', 'Jimbo')"
     ],
     "language": "python",
     "metadata": {
      "slideshow": {
       "slide_type": "subslide"
      }
     },
     "outputs": [
      {
       "metadata": {},
       "output_type": "pyout",
       "prompt_number": 18,
       "text": [
        "u'Jimbo Powell'"
       ]
      }
     ],
     "prompt_number": 18
    },
    {
     "cell_type": "code",
     "collapsed": false,
     "input": [
      "# we can split the string into a list of strings on some delimiter\n",
      "poem.split('\\n')"
     ],
     "language": "python",
     "metadata": {
      "slideshow": {
       "slide_type": "subslide"
      }
     },
     "outputs": [
      {
       "metadata": {},
       "output_type": "pyout",
       "prompt_number": 19,
       "text": [
        "[u'',\n",
        " u'\"With narrow search; and with inspection deep',\n",
        " u\" Consider'd every Creature, which of all\",\n",
        " u' Most opportune might serve his Wiles, and found',\n",
        " u' The Serpent suttlest Beast of all the Field.\"',\n",
        " u'  -- Milton',\n",
        " u'']"
       ]
      }
     ],
     "prompt_number": 19
    },
    {
     "cell_type": "code",
     "collapsed": false,
     "input": [
      "# combining the above, we can split the poem into lines,\n",
      "#   then iterate over the second and third line\n",
      "#   printing them out\n",
      "for line in poem.split('\\n')[2:4]:\n",
      "    print line"
     ],
     "language": "python",
     "metadata": {
      "slideshow": {
       "slide_type": "subslide"
      }
     },
     "outputs": [
      {
       "output_type": "stream",
       "stream": "stdout",
       "text": [
        " Consider'd every Creature, which of all\n",
        " Most opportune might serve his Wiles, and found\n"
       ]
      }
     ],
     "prompt_number": 20
    },
    {
     "cell_type": "code",
     "collapsed": false,
     "input": [
      "# we can strip leading and trailing whitespace with `.strip`\n",
      "poem.split('\\n')[2].strip()"
     ],
     "language": "python",
     "metadata": {
      "slideshow": {
       "slide_type": "subslide"
      }
     },
     "outputs": [
      {
       "metadata": {},
       "output_type": "pyout",
       "prompt_number": 21,
       "text": [
        "u\"Consider'd every Creature, which of all\""
       ]
      }
     ],
     "prompt_number": 21
    },
    {
     "cell_type": "code",
     "collapsed": false,
     "input": [
      "# we can see if a character is in the string\n",
      "'w' in name"
     ],
     "language": "python",
     "metadata": {
      "slideshow": {
       "slide_type": "subslide"
      }
     },
     "outputs": [
      {
       "metadata": {},
       "output_type": "pyout",
       "prompt_number": 22,
       "text": [
        "True"
       ]
      }
     ],
     "prompt_number": 22
    },
    {
     "cell_type": "code",
     "collapsed": false,
     "input": [
      "'b' in name"
     ],
     "language": "python",
     "metadata": {
      "slideshow": {
       "slide_type": "subslide"
      }
     },
     "outputs": [
      {
       "metadata": {},
       "output_type": "pyout",
       "prompt_number": 23,
       "text": [
        "False"
       ]
      }
     ],
     "prompt_number": 23
    },
    {
     "cell_type": "code",
     "collapsed": false,
     "input": [
      "'b' in name.replace('James', 'Jimbo')"
     ],
     "language": "python",
     "metadata": {
      "slideshow": {
       "slide_type": "subslide"
      }
     },
     "outputs": [
      {
       "metadata": {},
       "output_type": "pyout",
       "prompt_number": 24,
       "text": [
        "True"
       ]
      }
     ],
     "prompt_number": 24
    },
    {
     "cell_type": "code",
     "collapsed": false,
     "input": [
      "' | '.join(['James', 'Powell'])"
     ],
     "language": "python",
     "metadata": {},
     "outputs": [
      {
       "metadata": {},
       "output_type": "pyout",
       "prompt_number": 27,
       "text": [
        "u'James | Powell'"
       ]
      }
     ],
     "prompt_number": 27
    },
    {
     "cell_type": "code",
     "collapsed": false,
     "input": [
      "# strings are immutable\n",
      "name"
     ],
     "language": "python",
     "metadata": {
      "slideshow": {
       "slide_type": "subslide"
      }
     },
     "outputs": [
      {
       "metadata": {},
       "output_type": "pyout",
       "prompt_number": 28,
       "text": [
        "u'James Powell'"
       ]
      }
     ],
     "prompt_number": 28
    },
    {
     "cell_type": "code",
     "collapsed": false,
     "input": [
      "# we can reassign the string to capture a change\n",
      "name = name.replace('James', 'Jimbo')\n",
      "name"
     ],
     "language": "python",
     "metadata": {
      "slideshow": {
       "slide_type": "subslide"
      }
     },
     "outputs": [
      {
       "metadata": {},
       "output_type": "pyout",
       "prompt_number": 29,
       "text": [
        "u'Jimbo Powell'"
       ]
      }
     ],
     "prompt_number": 29
    },
    {
     "cell_type": "code",
     "collapsed": false,
     "input": [
      "# a list is a Sequence of elements which may be of any type\n",
      "# a list's elements may be of all the same type (homogeneous) or of different types (heterogeneous)\n",
      "\n",
      "names = ['James', 'Yves', 'Simon']\n",
      "\n",
      "primes = [2, 3, 5, 7, 11, 13,]\n",
      "\n",
      "primes = [\n",
      "    2,\n",
      "    3,\n",
      "    5,\n",
      "    7,\n",
      "    11,\n",
      "    13,\n",
      "]\n",
      "\n",
      "prime_factors = [\n",
      "    [2],    # 2\n",
      "    [3],    # 3\n",
      "    [2],    # 4\n",
      "    [5],    # 5\n",
      "    [2, 3], # 6\n",
      "    [7],    # 7\n",
      "    [2],    # 8\n",
      "    [3],    # 9\n",
      "    [2, 5], # 10\n",
      "    [11],   # 11\n",
      "    [2, 3], # 12\n",
      "    [13],   # 13\n",
      "]"
     ],
     "language": "python",
     "metadata": {
      "slideshow": {
       "slide_type": "subslide"
      }
     },
     "outputs": [],
     "prompt_number": 31
    },
    {
     "cell_type": "code",
     "collapsed": false,
     "input": [
      "# we can see the length\n",
      "len(primes)"
     ],
     "language": "python",
     "metadata": {
      "slideshow": {
       "slide_type": "subslide"
      }
     },
     "outputs": [
      {
       "metadata": {},
       "output_type": "pyout",
       "prompt_number": 32,
       "text": [
        "6"
       ]
      }
     ],
     "prompt_number": 32
    },
    {
     "cell_type": "code",
     "collapsed": false,
     "input": [
      "# we can index and slice in all the same ways\n",
      "print names[0]\n",
      "print primes[0:3]\n",
      "print names[-1]"
     ],
     "language": "python",
     "metadata": {
      "slideshow": {
       "slide_type": "subslide"
      }
     },
     "outputs": [
      {
       "output_type": "stream",
       "stream": "stdout",
       "text": [
        "James\n",
        "[2, 3, 5]\n",
        "Simon\n"
       ]
      }
     ],
     "prompt_number": 33
    },
    {
     "cell_type": "code",
     "collapsed": false,
     "input": [
      "# we can also check for inclusion\n",
      "print 'James' in names\n",
      "print 'Mark' in names"
     ],
     "language": "python",
     "metadata": {
      "slideshow": {
       "slide_type": "subslide"
      }
     },
     "outputs": [
      {
       "output_type": "stream",
       "stream": "stdout",
       "text": [
        "True\n",
        "False\n"
       ]
      }
     ],
     "prompt_number": 34
    },
    {
     "cell_type": "code",
     "collapsed": false,
     "input": [
      "# we can iterate\n",
      "for factors in prime_factors:\n",
      "    print factors\n",
      "    for factor in factors:\n",
      "        print '\\t', factor"
     ],
     "language": "python",
     "metadata": {
      "slideshow": {
       "slide_type": "subslide"
      }
     },
     "outputs": [
      {
       "output_type": "stream",
       "stream": "stdout",
       "text": [
        "[2]\n",
        "\t2\n",
        "[3]\n",
        "\t3\n",
        "[2]\n",
        "\t2\n",
        "[5]\n",
        "\t5\n",
        "[2, 3]\n",
        "\t2\n",
        "\t3\n",
        "[7]\n",
        "\t7\n",
        "[2]\n",
        "\t2\n",
        "[3]\n",
        "\t3\n",
        "[2, 5]\n",
        "\t2\n",
        "\t5\n",
        "[11]\n",
        "\t11\n",
        "[2, 3]\n",
        "\t2\n",
        "\t3\n",
        "[13]\n",
        "\t13\n"
       ]
      }
     ],
     "prompt_number": 36
    },
    {
     "cell_type": "code",
     "collapsed": false,
     "input": [
      "# lists are mutable\n",
      "primes += [17]\n",
      "primes"
     ],
     "language": "python",
     "metadata": {
      "slideshow": {
       "slide_type": "subslide"
      }
     },
     "outputs": [
      {
       "metadata": {},
       "output_type": "pyout",
       "prompt_number": 38,
       "text": [
        "[2, 3, 5, 7, 11, 13, 17, 17]"
       ]
      }
     ],
     "prompt_number": 38
    },
    {
     "cell_type": "code",
     "collapsed": false,
     "input": [
      "primes += [18]\n",
      "print primes\n",
      "\n",
      "del primes[-1]\n",
      "primes"
     ],
     "language": "python",
     "metadata": {
      "slideshow": {
       "slide_type": "subslide"
      }
     },
     "outputs": [
      {
       "output_type": "stream",
       "stream": "stdout",
       "text": [
        "[2, 3, 5, 7, 11, 13, 17, 17, 18]\n"
       ]
      },
      {
       "metadata": {},
       "output_type": "pyout",
       "prompt_number": 39,
       "text": [
        "[2, 3, 5, 7, 11, 13, 17, 17]"
       ]
      }
     ],
     "prompt_number": 39
    },
    {
     "cell_type": "code",
     "collapsed": false,
     "input": [
      "# booleans represent True or False\n",
      "\n",
      "python_is_awesome = True\n",
      "\n",
      "awesome_things = ['Python', 'birthday cake', 'programming']\n",
      "\n",
      "things = ['Python', 'birthday cake', 'rotten eggs']\n",
      "are_awesome = [True, True, False]"
     ],
     "language": "python",
     "metadata": {
      "slideshow": {
       "slide_type": "subslide"
      }
     },
     "outputs": []
    },
    {
     "cell_type": "markdown",
     "metadata": {
      "slideshow": {
       "slide_type": "slide"
      }
     },
     "source": [
      "<h2 id=\"arithmetic\">Python Basics: arithmetic, boolean operations</h2>"
     ]
    },
    {
     "cell_type": "code",
     "collapsed": false,
     "input": [
      "# addition, subtraction, multiplication, division\n",
      "print '1 + 2 =', 1 + 2\n",
      "print '1 - 2 =', 1 - 2\n",
      "print '2 * 3 =', 2 * 3\n",
      "print '2 / 3 =', 2 / 3\n",
      "print\n",
      "\n",
      "# exponentiation\n",
      "print '2 ** 2 =', 2 ** 2\n",
      "print\n",
      "\n",
      "# \"floor\"-division or \"truncating\"-division\n",
      "print '10 // 3 =', 10 // 3\n",
      "print\n",
      "\n",
      "# modulo\n",
      "print '5948 % 71 =', 5948 % 71\n",
      "print\n",
      "print '5948 // 71 =', 5948 // 71\n",
      "print '5948 % 71 = 5948 - (71 * 83) =', 5948 - (71 * 83), '=', 5948 % 71"
     ],
     "language": "python",
     "metadata": {
      "slideshow": {
       "slide_type": "subslide"
      }
     },
     "outputs": [
      {
       "output_type": "stream",
       "stream": "stdout",
       "text": [
        "1 + 2 = 3\n",
        "1 - 2 = -1\n",
        "2 * 3 = 6\n",
        "2 / 3 = 0.666666666667\n",
        "\n",
        "2 ** 2 = 4\n",
        "\n",
        "10 // 3 = 3\n",
        "\n",
        "5948 % 71 = 55\n",
        "\n",
        "5948 // 71 = 83\n",
        "5948 % 71 = 5948 - (71 * 83) = 55 = 55\n"
       ]
      }
     ],
     "prompt_number": 41
    },
    {
     "cell_type": "code",
     "collapsed": false,
     "input": [
      "# `and` requires that both conditions be True\n",
      "print 'True and False =', True and False\n",
      "print 'True and True =', True and True\n",
      "print\n",
      "\n",
      "# `or` requires that one of the conditions be True\n",
      "print 'True or False =', True or False\n",
      "print\n",
      "\n",
      "# `not`\n",
      "print 'not True =', not True\n",
      "print"
     ],
     "language": "python",
     "metadata": {
      "slideshow": {
       "slide_type": "subslide"
      }
     },
     "outputs": [
      {
       "output_type": "stream",
       "stream": "stdout",
       "text": [
        "True and False = False\n",
        "True and True = True\n",
        "\n",
        "True or False = True\n",
        "\n",
        "not True = False\n",
        "\n"
       ]
      }
     ],
     "prompt_number": 42
    },
    {
     "cell_type": "markdown",
     "metadata": {
      "slideshow": {
       "slide_type": "slide"
      }
     },
     "source": [
      "<h2 id=\"controlflow\">Python Basics: control flow (if, while, for)</h2>"
     ]
    },
    {
     "cell_type": "code",
     "collapsed": false,
     "input": [
      "if 10 > 2:\n",
      "    print \"It's true what they say about Dixie!\""
     ],
     "language": "python",
     "metadata": {
      "slideshow": {
       "slide_type": "subslide"
      }
     },
     "outputs": [
      {
       "output_type": "stream",
       "stream": "stdout",
       "text": [
        "It's true what they say about Dixie!\n"
       ]
      }
     ],
     "prompt_number": 45
    },
    {
     "cell_type": "code",
     "collapsed": false,
     "input": [
      "unusual = False\n",
      "\n",
      "if not unusual:\n",
      "    print \"It's not unusual to be loved by you!\"\n",
      "\n",
      "else:    \n",
      "    print \"What's new, pussycat? Whooooaaa whoooa whoooaa\""
     ],
     "language": "python",
     "metadata": {
      "slideshow": {
       "slide_type": "subslide"
      }
     },
     "outputs": [
      {
       "output_type": "stream",
       "stream": "stdout",
       "text": [
        "It's not unusual to be loved by you!\n"
       ]
      }
     ],
     "prompt_number": 48
    },
    {
     "cell_type": "code",
     "collapsed": false,
     "input": [
      "dog_nights = 100\n",
      "\n",
      "if dog_nights == 3:\n",
      "    print \"One is the lonliest number that you'll ever do...\"\n",
      "    \n",
      "elif dog_nights == 2:\n",
      "    print \"Mama told me not to come home.\"\n",
      "    \n",
      "else:\n",
      "    print \"Jeremiah was a bull-frog!\""
     ],
     "language": "python",
     "metadata": {
      "slideshow": {
       "slide_type": "subslide"
      }
     },
     "outputs": [
      {
       "output_type": "stream",
       "stream": "stdout",
       "text": [
        "Jeremiah was a bull-frog!\n"
       ]
      }
     ],
     "prompt_number": 51
    },
    {
     "cell_type": "code",
     "collapsed": false,
     "input": [
      "bottles_of_beer = 10\n",
      "while bottles_of_beer > 0:\n",
      "    print bottles_of_beer, 'bottles of beer on the wall.'\n",
      "    bottles_of_beer -= 1 # same as: bottles_of_beer = bottles_of_beer - 1    "
     ],
     "language": "python",
     "metadata": {
      "slideshow": {
       "slide_type": "subslide"
      }
     },
     "outputs": [
      {
       "output_type": "stream",
       "stream": "stdout",
       "text": [
        "10 bottles of beer on the wall.\n",
        "9 bottles of beer on the wall.\n",
        "8 bottles of beer on the wall.\n",
        "7 bottles of beer on the wall.\n",
        "6 bottles of beer on the wall.\n",
        "5 bottles of beer on the wall.\n",
        "4 bottles of beer on the wall.\n",
        "3 bottles of beer on the wall.\n",
        "2 bottles of beer on the wall.\n",
        "1 bottles of beer on the wall.\n"
       ]
      }
     ],
     "prompt_number": 52
    },
    {
     "cell_type": "code",
     "collapsed": false,
     "input": [
      "year = 2525\n",
      "\n",
      "while year < 7000:\n",
      "    print 'In the year,', year, '...',\n",
      "    if year == 2525:\n",
      "        print 'is man still alive?'\n",
      "    elif year == 3535:\n",
      "        print 'everything you think, do, or say is in the pill you took today.'\n",
      "    elif year == 4545:\n",
      "        print \"you ain't gonna need your teeth, won't need your eyes.\"\n",
      "    elif year == 5555:\n",
      "        print \"your legs got nothin' to do; some machine's doin' that for you.\"\n",
      "    elif year == 6565:\n",
      "        print \"you'll pick your son and your daughter, too, from the bottom of a long glass tube.\"\n",
      "    year += 1010"
     ],
     "language": "python",
     "metadata": {
      "slideshow": {
       "slide_type": "subslide"
      }
     },
     "outputs": [
      {
       "output_type": "stream",
       "stream": "stdout",
       "text": [
        "In the year, 2525 ... is man still alive?\n",
        "In the year, 3535 ... everything you think, do, or say is in the pill you took today.\n",
        "In the year, 4545 ... you ain't gonna need your teeth, won't need your eyes.\n",
        "In the year, 5555 ... your legs got nothin' to do; some machine's doin' that for you.\n",
        "In the year, 6565 ... you'll pick your son and your daughter, too, from the bottom of a long glass tube.\n"
       ]
      }
     ],
     "prompt_number": 53
    },
    {
     "cell_type": "code",
     "collapsed": false,
     "input": [
      "subjects = ['history', 'biology', 'geography', 'science books']\n",
      "\n",
      "for subject in subjects[1:3]:\n",
      "    print \"Don't know much about\", subject"
     ],
     "language": "python",
     "metadata": {
      "slideshow": {
       "slide_type": "subslide"
      }
     },
     "outputs": [
      {
       "output_type": "stream",
       "stream": "stdout",
       "text": [
        "Don't know much about biology\n",
        "Don't know much about geography\n"
       ]
      }
     ],
     "prompt_number": 55
    },
    {
     "cell_type": "code",
     "collapsed": false,
     "input": [
      "# a list or string is considered `True` if it has items\n",
      "\n",
      "while subjects:\n",
      "    print \"Didn't know much about:\", subjects\n",
      "    del subjects[-1]"
     ],
     "language": "python",
     "metadata": {
      "slideshow": {
       "slide_type": "subslide"
      }
     },
     "outputs": [
      {
       "output_type": "stream",
       "stream": "stdout",
       "text": [
        "Didn't know much about: [u'history', u'biology', u'geography', u'science books']\n",
        "Didn't know much about: [u'history', u'biology', u'geography']\n",
        "Didn't know much about: [u'history', u'biology']\n",
        "Didn't know much about: [u'history']\n"
       ]
      }
     ],
     "prompt_number": 56
    },
    {
     "cell_type": "code",
     "collapsed": false,
     "input": [
      "subjects = ['history', 'biology', 'geography', 'science books', 'i love you']\n",
      "\n",
      "for subject in subjects:\n",
      "    if 'love' in subject:\n",
      "        print \"And if you love me true, what a wonderful world this could be!\"\n",
      "    else:\n",
      "        print \"Don't know much about...\", subject"
     ],
     "language": "python",
     "metadata": {
      "slideshow": {
       "slide_type": "subslide"
      }
     },
     "outputs": [
      {
       "output_type": "stream",
       "stream": "stdout",
       "text": [
        "Don't know much about... history\n",
        "Don't know much about... biology\n",
        "Don't know much about... geography\n",
        "Don't know much about... science books\n",
        "And if you love me true, what a wonderful world this could be!\n"
       ]
      }
     ],
     "prompt_number": 57
    },
    {
     "cell_type": "markdown",
     "metadata": {
      "slideshow": {
       "slide_type": "slide"
      }
     },
     "source": [
      "<h2 id=\"functions\">Python Basics: simple functions</h2>"
     ]
    },
    {
     "cell_type": "code",
     "collapsed": false,
     "input": [
      "# a function is a block of code that we can reuse\n",
      "#   it takes inputs from which it calculates a return value\n",
      "def double(x):\n",
      "    return x * 2\n",
      "\n",
      "double(10)"
     ],
     "language": "python",
     "metadata": {
      "slideshow": {
       "slide_type": "subslide"
      }
     },
     "outputs": [
      {
       "metadata": {},
       "output_type": "pyout",
       "prompt_number": 58,
       "text": [
        "20"
       ]
      }
     ],
     "prompt_number": 58
    },
    {
     "cell_type": "code",
     "collapsed": false,
     "input": [
      "double('hi')"
     ],
     "language": "python",
     "metadata": {},
     "outputs": [
      {
       "metadata": {},
       "output_type": "pyout",
       "prompt_number": 59,
       "text": [
        "u'hihi'"
       ]
      }
     ],
     "prompt_number": 59
    },
    {
     "cell_type": "markdown",
     "metadata": {
      "slideshow": {
       "slide_type": "subslide"
      }
     },
     "source": [
      "$$x = \\frac {-b \\pm \\sqrt {b^2 - 4ac}}{2a}$$"
     ]
    },
    {
     "cell_type": "code",
     "collapsed": false,
     "input": [
      "from math import sqrt\n",
      "\n",
      "def quadratic(a, b, c):\n",
      "    return [(-b + sqrt(b**2 - 4 * a * c))/(2*a), \n",
      "            (-b - sqrt(b**2 - 4 * a * c))/(2*a),]\n",
      "\n",
      "# (x - 1)(x - 2) = x**2 - 3x + 2\n",
      "print quadratic(1, -3, 2)"
     ],
     "language": "python",
     "metadata": {
      "slideshow": {
       "slide_type": "fragment"
      }
     },
     "outputs": [
      {
       "output_type": "stream",
       "stream": "stdout",
       "text": [
        "[2.0, 1.0]\n"
       ]
      }
     ],
     "prompt_number": 60
    },
    {
     "cell_type": "code",
     "collapsed": false,
     "input": [
      "from math import sqrt\n",
      "\n",
      "def quadratic(a, b, c):\n",
      "    x = b**2 - 4 * a * c\n",
      "    y = (2*a)\n",
      "    \n",
      "    if x < 0:\n",
      "        return []    \n",
      "    return [(-b + sqrt(x))/y, \n",
      "            (-b - sqrt(x))/y,]\n",
      "\n",
      "# (x - 1)(x - 2) = x**2 - 3x + 2\n",
      "print quadratic(1, -3, 2)\n",
      "\n",
      "# x**2 - 3x + 3\n",
      "print quadratic(1, -3, 3)"
     ],
     "language": "python",
     "metadata": {
      "slideshow": {
       "slide_type": "subslide"
      }
     },
     "outputs": [
      {
       "output_type": "stream",
       "stream": "stdout",
       "text": [
        "[2.0, 1.0]\n",
        "[]\n"
       ]
      }
     ],
     "prompt_number": 61
    },
    {
     "cell_type": "markdown",
     "metadata": {
      "slideshow": {
       "slide_type": "slide"
      }
     },
     "source": [
      "<h2 id=\"modules\">Python Basics: importing from modules</h2>"
     ]
    },
    {
     "cell_type": "code",
     "collapsed": false,
     "input": [
      "# direct import\n",
      "from math import sqrt\n",
      "from math import sin, pi\n",
      "\n",
      "print 'sqrt(4) =', sqrt(4)\n",
      "print 'sin(pi) =', sin(pi), '\u2248', round(sin(2*pi),2)"
     ],
     "language": "python",
     "metadata": {
      "slideshow": {
       "slide_type": "subslide"
      }
     },
     "outputs": [
      {
       "output_type": "stream",
       "stream": "stdout",
       "text": [
        "sqrt(4) = 2.0\n",
        "sin(pi) = 1.22464679915e-16 \u2248 -0.0\n"
       ]
      }
     ],
     "prompt_number": 62
    },
    {
     "cell_type": "code",
     "collapsed": false,
     "input": [
      "# module import\n",
      "import math\n",
      "\n",
      "print 'sqrt(4) =', math.sqrt(4)\n",
      "print 'sin(pi) =', math.sin(math.pi), '\u2248', round(math.sin(2*math.pi),2)"
     ],
     "language": "python",
     "metadata": {
      "slideshow": {
       "slide_type": "subslide"
      }
     },
     "outputs": [
      {
       "output_type": "stream",
       "stream": "stdout",
       "text": [
        "sqrt(4) = 2.0\n",
        "sin(pi) = 1.22464679915e-16 \u2248 -0.0\n"
       ]
      }
     ],
     "prompt_number": 63
    },
    {
     "cell_type": "markdown",
     "metadata": {
      "slideshow": {
       "slide_type": "slide"
      }
     },
     "source": [
      "<h2 id=\"modules2\">Python Basics: random module, string module</h2>"
     ]
    },
    {
     "cell_type": "code",
     "collapsed": false,
     "input": [
      "from random import choice\n",
      "\n",
      "names = ['James', 'Yves', 'Simon']\n",
      "flavours = ['vanilla', 'chocolate', 'strawberry']\n",
      "\n",
      "for name in names:\n",
      "    print name, 'prefers', choice(flavours)"
     ],
     "language": "python",
     "metadata": {
      "slideshow": {
       "slide_type": "subslide"
      }
     },
     "outputs": [
      {
       "output_type": "stream",
       "stream": "stdout",
       "text": [
        "James prefers chocolate\n",
        "Yves prefers chocolate\n",
        "Simon prefers chocolate\n"
       ]
      }
     ],
     "prompt_number": 9
    },
    {
     "cell_type": "code",
     "collapsed": false,
     "input": [
      "from random import shuffle\n",
      "\n",
      "cards = ['Ace', 'Two', 'Three', 'Four', 'Five', 'Six', 'Seven', 'Eight', 'Nine', 'Ten', 'Jack', 'Queen', 'King']\n",
      "for card in cards[:5]:\n",
      "    print card,\n",
      "print\n",
      "\n",
      "shuffle(cards)\n",
      "for card in cards[:5]:\n",
      "    print card,\n",
      "print"
     ],
     "language": "python",
     "metadata": {
      "slideshow": {
       "slide_type": "subslide"
      }
     },
     "outputs": [
      {
       "output_type": "stream",
       "stream": "stdout",
       "text": [
        "Ace Two Three Four Five\n",
        "Nine Two Jack Five Eight\n"
       ]
      }
     ],
     "prompt_number": 17
    },
    {
     "cell_type": "code",
     "collapsed": false,
     "input": [
      "values = ['Ace', 'Two', 'Three', 'Four', 'Five', 'Six', 'Seven', 'Eight', 'Nine', 'Ten', 'Jack', 'Queen', 'King']\n",
      "suits  = ['Spades', 'Clubs', 'Hearts', 'Diamonds']\n",
      "\n",
      "cards = []\n",
      "for suit in suits:\n",
      "    for value in values:\n",
      "        cards += [value + ' of ' + suit]\n",
      "\n",
      "for card in cards[:5]:\n",
      "    print card\n",
      "print\n",
      "        \n",
      "hand = []\n",
      "shuffle(cards)\n",
      "for card in cards[:5]:\n",
      "    hand += [card]\n",
      "    \n",
      "print \"Your hand:\", hand"
     ],
     "language": "python",
     "metadata": {
      "slideshow": {
       "slide_type": "subslide"
      }
     },
     "outputs": [
      {
       "output_type": "stream",
       "stream": "stdout",
       "text": [
        "Ace of Spades\n",
        "Two of Spades\n",
        "Three of Spades\n",
        "Four of Spades\n",
        "Five of Spades\n",
        "\n",
        "Your hand: ['Four of Diamonds', 'Queen of Spades', 'Queen of Diamonds', 'King of Diamonds', 'Jack of Clubs']\n"
       ]
      }
     ],
     "prompt_number": 23
    },
    {
     "cell_type": "code",
     "collapsed": false,
     "input": [
      "from string import ascii_lowercase, ascii_uppercase, digits, punctuation\n",
      "\n",
      "print ascii_lowercase\n",
      "print ascii_uppercase\n",
      "print digits\n",
      "print punctuation"
     ],
     "language": "python",
     "metadata": {
      "slideshow": {
       "slide_type": "subslide"
      }
     },
     "outputs": [
      {
       "output_type": "stream",
       "stream": "stdout",
       "text": [
        "abcdefghijklmnopqrstuvwxyz\n",
        "ABCDEFGHIJKLMNOPQRSTUVWXYZ\n",
        "0123456789\n",
        "!\"#$%&'()*+,-./:;<=>?@[\\]^_`{|}~\n"
       ]
      }
     ],
     "prompt_number": 24
    },
    {
     "cell_type": "markdown",
     "metadata": {
      "slideshow": {
       "slide_type": "slide"
      }
     },
     "source": [
      "<h2 id=\"valid\">Project: writing `valid()`</h2>"
     ]
    },
    {
     "cell_type": "code",
     "collapsed": false,
     "input": [
      "def valid(password):\n",
      "    if len(password) != 8:\n",
      "        return False\n",
      "    return True\n",
      "    \n",
      "print valid('Pa$word')\n",
      "print valid('Pa$sword')"
     ],
     "language": "python",
     "metadata": {
      "slideshow": {
       "slide_type": "subslide"
      }
     },
     "outputs": [
      {
       "output_type": "stream",
       "stream": "stdout",
       "text": [
        "False\n",
        "True\n"
       ]
      }
     ],
     "prompt_number": 25
    },
    {
     "cell_type": "code",
     "collapsed": false,
     "input": [
      "from string import ascii_uppercase\n",
      "\n",
      "def valid(password):\n",
      "    if len(password) != 8:\n",
      "        return False\n",
      "    \n",
      "    has_uppercase = False    \n",
      "    for c in ascii_uppercase:\n",
      "        if c in password:\n",
      "            has_uppercase = True\n",
      "    \n",
      "    return has_uppercase\n",
      "        \n",
      "    \n",
      "print valid('pas$word')\n",
      "print valid('Pa$sword')"
     ],
     "language": "python",
     "metadata": {
      "slideshow": {
       "slide_type": "subslide"
      }
     },
     "outputs": [
      {
       "output_type": "stream",
       "stream": "stdout",
       "text": [
        "False\n",
        "True\n"
       ]
      }
     ],
     "prompt_number": 26
    },
    {
     "cell_type": "code",
     "collapsed": false,
     "input": [
      "from string import ascii_uppercase, ascii_lowercase, digits, punctuation\n",
      "\n",
      "def valid(password):\n",
      "    if len(password) != 8:\n",
      "        return False\n",
      "    \n",
      "    has_uppercase = False    \n",
      "    for c in ascii_uppercase:\n",
      "        if c in password:\n",
      "            has_uppercase = True\n",
      "    \n",
      "    has_lowercase = False\n",
      "    for c in ascii_lowercase:\n",
      "        if c in password:\n",
      "            has_lowercase = True\n",
      "    \n",
      "    has_digit = False\n",
      "    for c in digits:\n",
      "        if c in password:\n",
      "            has_digit = True\n",
      "            \n",
      "    has_punct = False\n",
      "    for c in punctuation:\n",
      "        if c in password:\n",
      "            has_punct = True\n",
      "    \n",
      "    return has_uppercase and has_lowercase and has_digit and has_punct        \n",
      "    \n",
      "print valid('Pa$sw0rd')\n",
      "print valid('Passw0rd')"
     ],
     "language": "python",
     "metadata": {
      "slideshow": {
       "slide_type": "subslide"
      }
     },
     "outputs": [
      {
       "output_type": "stream",
       "stream": "stdout",
       "text": [
        "True\n",
        "False\n"
       ]
      }
     ],
     "prompt_number": 27
    },
    {
     "cell_type": "markdown",
     "metadata": {
      "slideshow": {
       "slide_type": "slide"
      }
     },
     "source": [
      "<h2 id=\"random_string\">Project: writing `random_string()`</h2>"
     ]
    },
    {
     "cell_type": "code",
     "collapsed": false,
     "input": [
      "from random import choice\n",
      "from string import ascii_uppercase, ascii_lowercase, digits, punctuation\n",
      "\n",
      "all_symbols = ascii_uppercase + ascii_lowercase + digits + punctuation\n",
      "\n",
      "def random_string():    \n",
      "    chars = []\n",
      "    for _ in xrange(8):\n",
      "        symbol = choice(all_symbols)\n",
      "        chars.append(symbol)\n",
      "    password = ''.join(chars)\n",
      "    return password"
     ],
     "language": "python",
     "metadata": {},
     "outputs": [],
     "prompt_number": 31
    },
    {
     "cell_type": "code",
     "collapsed": false,
     "input": [
      "random_string()"
     ],
     "language": "python",
     "metadata": {},
     "outputs": [
      {
       "metadata": {},
       "output_type": "pyout",
       "prompt_number": 38,
       "text": [
        "'$2hBOL?='"
       ]
      }
     ],
     "prompt_number": 38
    },
    {
     "cell_type": "code",
     "collapsed": false,
     "input": [
      "all_symbols"
     ],
     "language": "python",
     "metadata": {},
     "outputs": [
      {
       "metadata": {},
       "output_type": "pyout",
       "prompt_number": 30,
       "text": [
        "'ABCDEFGHIJKLMNOPQRSTUVWXYZabcdefghijklmnopqrstuvwxyz0123456789!\"#$%&\\'()*+,-./:;<=>?@[\\\\]^_`{|}~'"
       ]
      }
     ],
     "prompt_number": 30
    },
    {
     "cell_type": "markdown",
     "metadata": {},
     "source": [
      "<h2 id=\"make_password\">Project: writing `make_password()`, \"stochastic\"/\"non-deterministic\" approach</h2>"
     ]
    },
    {
     "cell_type": "code",
     "collapsed": false,
     "input": [
      "def make_password():\n",
      "    password = ''\n",
      "    while not valid(password):\n",
      "        password = random_string()\n",
      "    return password"
     ],
     "language": "python",
     "metadata": {},
     "outputs": [],
     "prompt_number": 39
    },
    {
     "cell_type": "code",
     "collapsed": false,
     "input": [
      "pw = make_password()\n",
      "assert valid(pw)\n",
      "print 'Your password is:', pw"
     ],
     "language": "python",
     "metadata": {},
     "outputs": [
      {
       "output_type": "stream",
       "stream": "stdout",
       "text": [
        "Your password is: ([w2jeoS\n"
       ]
      }
     ],
     "prompt_number": 44
    },
    {
     "cell_type": "markdown",
     "metadata": {},
     "source": [
      "<h2 id=\"make_password2\">Project: writing `make_password2()`, \"combinatoric\"/\"deterministic\" approach</h2>"
     ]
    },
    {
     "cell_type": "code",
     "collapsed": false,
     "input": [
      "from random import choice, shuffle\n",
      "from string import ascii_uppercase, ascii_lowercase, digits, punctuation\n",
      "\n",
      "all_symbols = ascii_uppercase + ascii_lowercase + digits + punctuation\n",
      "\n",
      "def make_password():\n",
      "    chars = []\n",
      "    chars.append(choice(ascii_uppercase))\n",
      "    chars.append(choice(ascii_lowercase))\n",
      "    chars.append(choice(digits))\n",
      "    chars.append(choice(punctuation))\n",
      "    for _ in xrange(4):\n",
      "        chars.append(choice(all_symbols))\n",
      "    shuffle(chars)\n",
      "    password = ''.join(chars)\n",
      "    return password"
     ],
     "language": "python",
     "metadata": {},
     "outputs": [],
     "prompt_number": 46
    },
    {
     "cell_type": "code",
     "collapsed": false,
     "input": [
      "pw = make_password()\n",
      "assert valid(pw)\n",
      "print 'Your password is:', pw"
     ],
     "language": "python",
     "metadata": {},
     "outputs": [
      {
       "output_type": "stream",
       "stream": "stdout",
       "text": [
        "Your password is: sF5OC0{$\n"
       ]
      }
     ],
     "prompt_number": 53
    },
    {
     "cell_type": "markdown",
     "metadata": {},
     "source": [
      "<h2 id=\"project\">Project: advanced topics</h2>"
     ]
    },
    {
     "cell_type": "code",
     "collapsed": false,
     "input": [
      "names = set(['James', 'Jim', 'Jimbo'])\n",
      "print names\n",
      "\n",
      "numbers = set([1,2,4,8,8,16])\n",
      "print numbers"
     ],
     "language": "python",
     "metadata": {},
     "outputs": [
      {
       "output_type": "stream",
       "stream": "stdout",
       "text": [
        "set(['James', 'Jim', 'Jimbo'])\n",
        "set([8, 1, 2, 4, 16])\n"
       ]
      }
     ],
     "prompt_number": 27
    },
    {
     "cell_type": "code",
     "collapsed": false,
     "input": [
      "set([1,2,4,6,8,12]) | set([1,3,6,9,12,15])"
     ],
     "language": "python",
     "metadata": {},
     "outputs": [
      {
       "metadata": {},
       "output_type": "pyout",
       "prompt_number": 28,
       "text": [
        "{1, 2, 3, 4, 6, 8, 9, 12, 15}"
       ]
      }
     ],
     "prompt_number": 28
    },
    {
     "cell_type": "code",
     "collapsed": false,
     "input": [
      "set([1,2,4,6,8,12]) & set([1,3,6,9,12,15])"
     ],
     "language": "python",
     "metadata": {},
     "outputs": [
      {
       "metadata": {},
       "output_type": "pyout",
       "prompt_number": 29,
       "text": [
        "{1, 6, 12}"
       ]
      }
     ],
     "prompt_number": 29
    },
    {
     "cell_type": "code",
     "collapsed": false,
     "input": [
      "set([1,2,4,6,8,12]) ^ set([1,3,6,9,12,15])"
     ],
     "language": "python",
     "metadata": {},
     "outputs": [
      {
       "metadata": {},
       "output_type": "pyout",
       "prompt_number": 30,
       "text": [
        "{2, 3, 4, 8, 9, 15}"
       ]
      }
     ],
     "prompt_number": 30
    },
    {
     "cell_type": "code",
     "collapsed": false,
     "input": [
      "from string import ascii_uppercase, ascii_lowercase, digits, punctuation\n",
      "\n",
      "def valid(password):\n",
      "    has_uppercase   = set(ascii_uppercase) & set(password)\n",
      "    has_lowercase   = set(ascii_lowercase) & set(password)\n",
      "    has_digit       = set(digits) & set(password)\n",
      "    has_punctuation = set(punctuation) & set(password)\n",
      "    return len(password) == 8 and has_uppercase and has_lowercase and has_digit and has_punctuation    "
     ],
     "language": "python",
     "metadata": {},
     "outputs": [],
     "prompt_number": 54
    }
   ],
   "metadata": {}
  }
 ]
}