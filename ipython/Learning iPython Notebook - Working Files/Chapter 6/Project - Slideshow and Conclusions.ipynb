{
 "metadata": {
  "celltoolbar": "Slideshow",
  "name": "",
  "signature": "sha256:ebad90bdad5f17bcf6beb8c2b5c494ff13c25d6294dedd8e1532f3dbb38b8d4f"
 },
 "nbformat": 3,
 "nbformat_minor": 0,
 "worksheets": [
  {
   "cells": [
    {
     "cell_type": "markdown",
     "metadata": {
      "slideshow": {
       "slide_type": "slide"
      }
     },
     "source": [
      "<div style=\"text-align: center\">\n",
      "    <h1>Infinite Skills &mdash; Intro to Python with IPython Notebook</h1>\n",
      "    <h2>Project: Slideshow and Conclusions</h2>\n",
      "    <h2>James Powell &mdash; <a href=\"james@pythonquants.com\">james@pythonquants.com</a></h2>\n",
      "</div>"
     ]
    },
    {
     "cell_type": "code",
     "collapsed": false,
     "input": [
      "from IPython.display import IFrame, HTML, display\n",
      "from __future__ import division, unicode_literals\n",
      "\n",
      "def IFrame(url, width='100%', height=350, IFrame=IFrame):\n",
      "    display(HTML('<a href=\"{0}\">{0}</a>'.format(url)))\n",
      "    display(IFrame(url, width=width, height=height))"
     ],
     "language": "python",
     "metadata": {
      "slideshow": {
       "slide_type": "skip"
      }
     },
     "outputs": [],
     "prompt_number": 2
    },
    {
     "cell_type": "code",
     "collapsed": false,
     "input": [
      "IFrame('http://www.infiniteskills.com', width='100%', height=250)"
     ],
     "language": "python",
     "metadata": {
      "slideshow": {
       "slide_type": "slide"
      }
     },
     "outputs": [
      {
       "html": [
        "<a href=\"http://www.infiniteskills.com\">http://www.infiniteskills.com</a>"
       ],
       "metadata": {},
       "output_type": "display_data",
       "text": [
        "<IPython.core.display.HTML at 0x40d3ef0>"
       ]
      },
      {
       "html": [
        "\n",
        "        <iframe\n",
        "            width=\"100%\"\n",
        "            height=250\"\n",
        "            src=\"http://www.infiniteskills.com\"\n",
        "            frameborder=\"0\"\n",
        "            allowfullscreen\n",
        "        ></iframe>\n",
        "        "
       ],
       "metadata": {},
       "output_type": "display_data",
       "text": [
        "<IPython.lib.display.IFrame at 0x40d3da0>"
       ]
      }
     ],
     "prompt_number": 3
    },
    {
     "cell_type": "markdown",
     "metadata": {
      "slideshow": {
       "slide_type": "slide"
      }
     },
     "source": [
      "Agenda\n",
      "------\n",
      "\n",
      "Project: Slideshow and Conclusions\n",
      "\n",
      "[Review: Cell Toolbar & Slideshow](#toolbar)\n",
      "\n",
      "[Review: `ipython nbconvert`](#nbconvert)\n",
      "\n",
      "[Review: IPython Notebook](#ipython)\n",
      "\n",
      "[Review: types (`string`, `list`, `dict`, `set`, `bool`, `date`, `datetime`, `timedelta`, numbers)](#types)\n",
      "\n",
      "[Review: operations (arithmetic, boolean, comparisons)](#operations)\n",
      "\n",
      "[Review: simple functions & calling conventions](#functions)\n",
      "\n",
      "[Review: methods](#methods)\n",
      "\n",
      "[Review: `help` and `dir` and more](#help)\n",
      "\n",
      "[Review: modules](#modules)\n",
      "\n",
      "[Review: `string`](#string)\n",
      "\n",
      "[Review: `random`](#random)\n",
      "\n",
      "[Review: `requests`](#requests)\n",
      "\n",
      "[Review: `numpy`](#numpy)\n",
      "\n",
      "[Review: `matplotlib`](#matplotlib)\n",
      "\n",
      "[Review: `pandas` and `pandas.DataFrame`](#pandas)\n"
     ]
    },
    {
     "cell_type": "code",
     "collapsed": false,
     "input": [
      "from IPython.display import Javascript, display\n",
      "display(Javascript('''IPython.notebook.kernel.execute(\"filename = '\" + IPython.notebook.notebook_name + \"'\");'''))"
     ],
     "language": "python",
     "metadata": {
      "slideshow": {
       "slide_type": "skip"
      }
     },
     "outputs": [
      {
       "javascript": [
        "IPython.notebook.kernel.execute(\"filename = '\" + IPython.notebook.notebook_name + \"'\");"
       ],
       "metadata": {},
       "output_type": "display_data",
       "text": [
        "<IPython.core.display.Javascript at 0x40fb080>"
       ]
      }
     ],
     "prompt_number": 4
    },
    {
     "cell_type": "code",
     "collapsed": false,
     "input": [
      "from json import load\n",
      "with open(filename) as f:\n",
      "    nb = load(f)\n",
      "\n",
      "headings = [line for cell in nb['worksheets'][0]['cells']\n",
      "                     if cell['cell_type'] == 'markdown' and any(line.strip().startswith('Agenda') \n",
      "                                                                for line in cell['source'])\n",
      "                 for line in cell['source'] \n",
      "                     if '#' in line]\n",
      "\n",
      "for heading in headings:\n",
      "    if heading:\n",
      "        title, anchor = heading.strip()[1:-1].split('](')\n",
      "        print '<h2 id=\"{anchor}\">{title}</h2>'.format(title=title, anchor=anchor[1:])"
     ],
     "language": "python",
     "metadata": {
      "slideshow": {
       "slide_type": "skip"
      }
     },
     "outputs": [
      {
       "output_type": "stream",
       "stream": "stdout",
       "text": [
        "<h2 id=\"toolbar\">Review: Cell Toolbar & Slideshow</h2>\n",
        "<h2 id=\"nbconvert\">Review: `ipython nbconvert`</h2>\n",
        "<h2 id=\"ipython\">Review: IPython Notebook</h2>\n",
        "<h2 id=\"types\">Review: types (`string`, `list`, `dict`, `set`, `bool`, `date`, `datetime`, `timedelta`, numbers)</h2>\n",
        "<h2 id=\"operations\">Review: operations (arithmetic, boolean, comparisons)</h2>\n",
        "<h2 id=\"functions\">Review: simple functions & calling conventions</h2>\n",
        "<h2 id=\"methods\">Review: methods</h2>\n",
        "<h2 id=\"help\">Review: `help` and `dir` and more</h2>\n",
        "<h2 id=\"modules\">Review: modules</h2>\n",
        "<h2 id=\"string\">Review: `string`</h2>\n",
        "<h2 id=\"random\">Review: `random`</h2>\n",
        "<h2 id=\"requests\">Review: `requests`</h2>\n",
        "<h2 id=\"numpy\">Review: `numpy`</h2>\n",
        "<h2 id=\"matplotlib\">Review: `matplotlib`</h2>\n",
        "<h2 id=\"pandas\">Review: `pandas` and `pandas.DataFrame`</h2>\n"
       ]
      }
     ],
     "prompt_number": 5
    },
    {
     "cell_type": "markdown",
     "metadata": {
      "slideshow": {
       "slide_type": "slide"
      }
     },
     "source": [
      "<h2 id=\"toolbar\">Review: Cell Toolbar & Slideshow</h2>"
     ]
    },
    {
     "cell_type": "markdown",
     "metadata": {
      "slideshow": {
       "slide_type": "slide"
      }
     },
     "source": [
      "<h2 id=\"nbconvert\">Review: `ipython nbconvert`</h2>"
     ]
    },
    {
     "cell_type": "markdown",
     "metadata": {
      "slideshow": {
       "slide_type": "slide"
      }
     },
     "source": [
      "<h2 id=\"ipython\">Review: IPython Notebook</h2>"
     ]
    },
    {
     "cell_type": "markdown",
     "metadata": {
      "slideshow": {
       "slide_type": "subslide"
      }
     },
     "source": [
      "Commands\n",
      "--------\n",
      "\n",
      "- `a` creating a cell above\n",
      "- `b` creating a cell below (plus button)\n",
      "- `ctrl+enter` evaluate a cell (play button)\n",
      "- move cells using up & down arrows\n",
      "- save notebook using save button\n",
      "- Help > Keyboard Shorcuts"
     ]
    },
    {
     "cell_type": "code",
     "collapsed": false,
     "input": [
      "# define a function in a cell\n",
      "def double(x):\n",
      "    return x * 2"
     ],
     "language": "python",
     "metadata": {
      "slideshow": {
       "slide_type": "subslide"
      }
     },
     "outputs": [],
     "prompt_number": 6
    },
    {
     "cell_type": "code",
     "collapsed": false,
     "input": [
      "# use the function\n",
      "double(100)"
     ],
     "language": "python",
     "metadata": {
      "slideshow": {
       "slide_type": "fragment"
      }
     },
     "outputs": [
      {
       "metadata": {},
       "output_type": "pyout",
       "prompt_number": 7,
       "text": [
        "200"
       ]
      }
     ],
     "prompt_number": 7
    },
    {
     "cell_type": "markdown",
     "metadata": {
      "slideshow": {
       "slide_type": "fragment"
      }
     },
     "source": [
      "*Remember that evaluation order matters.*\n",
      "\n",
      "*Remember how scope works in IPython notebook.*"
     ]
    },
    {
     "cell_type": "code",
     "collapsed": false,
     "input": [
      "# to run a command line programme, use the !\n",
      "! ping www.google.com"
     ],
     "language": "python",
     "metadata": {
      "slideshow": {
       "slide_type": "subslide"
      }
     },
     "outputs": [
      {
       "output_type": "stream",
       "stream": "stdout",
       "text": [
        "\n",
        "Pinging www.google.com [74.125.228.240] with 32 bytes of data:\n",
        "Reply from 74.125.228.240: bytes=32 time=12ms TTL=250\n",
        "Reply from 74.125.228.240: bytes=32 time=12ms TTL=250\n",
        "Reply from 74.125.228.240: bytes=32 time=11ms TTL=250\n",
        "Reply from 74.125.228.240: bytes=32 time=11ms TTL=250\n",
        "\n",
        "Ping statistics for 74.125.228.240:\n",
        "    Packets: Sent = 4, Received = 4, Lost = 0 (0% loss),\n",
        "Approximate round trip times in milli-seconds:\n",
        "    Minimum = 11ms, Maximum = 12ms, Average = 11ms\n"
       ]
      }
     ],
     "prompt_number": 8
    },
    {
     "cell_type": "code",
     "collapsed": false,
     "input": [
      "%lsmagic"
     ],
     "language": "python",
     "metadata": {
      "slideshow": {
       "slide_type": "subslide"
      }
     },
     "outputs": [
      {
       "json": [
        "{\"cell\": {\"prun\": \"ExecutionMagics\", \"file\": \"Other\", \"!\": \"OSMagics\", \"capture\": \"ExecutionMagics\", \"timeit\": \"ExecutionMagics\", \"script\": \"ScriptMagics\", \"pypy\": \"Other\", \"system\": \"OSMagics\", \"perl\": \"Other\", \"HTML\": \"Other\", \"bash\": \"Other\", \"python\": \"Other\", \"SVG\": \"Other\", \"javascript\": \"DisplayMagics\", \"writefile\": \"OSMagics\", \"ruby\": \"Other\", \"python3\": \"Other\", \"python2\": \"Other\", \"latex\": \"DisplayMagics\", \"sx\": \"OSMagics\", \"svg\": \"DisplayMagics\", \"cmd\": \"Other\", \"html\": \"DisplayMagics\", \"sh\": \"Other\", \"time\": \"ExecutionMagics\", \"debug\": \"ExecutionMagics\", \"powershell\": \"Other\"}, \"line\": {\"psource\": \"NamespaceMagics\", \"logstart\": \"LoggingMagics\", \"popd\": \"OSMagics\", \"loadpy\": \"CodeMagics\", \"install_ext\": \"ExtensionMagics\", \"colors\": \"BasicMagics\", \"who_ls\": \"NamespaceMagics\", \"install_profiles\": \"DeprecatedMagics\", \"ddir\": \"Other\", \"pprint\": \"BasicMagics\", \"ldir\": \"Other\", \"ls\": \"Other\", \"save\": \"CodeMagics\", \"tb\": \"ExecutionMagics\", \"cls\": \"KernelMagics\", \"pylab\": \"PylabMagics\", \"killbgscripts\": \"ScriptMagics\", \"quickref\": \"BasicMagics\", \"echo\": \"Other\", \"magic\": \"BasicMagics\", \"dhist\": \"OSMagics\", \"edit\": \"KernelMagics\", \"logstop\": \"LoggingMagics\", \"gui\": \"BasicMagics\", \"alias_magic\": \"BasicMagics\", \"debug\": \"ExecutionMagics\", \"page\": \"BasicMagics\", \"logstate\": \"LoggingMagics\", \"ed\": \"Other\", \"pushd\": \"OSMagics\", \"timeit\": \"ExecutionMagics\", \"rehashx\": \"OSMagics\", \"hist\": \"Other\", \"ren\": \"Other\", \"qtconsole\": \"KernelMagics\", \"dirs\": \"OSMagics\", \"run\": \"ExecutionMagics\", \"reset_selective\": \"NamespaceMagics\", \"pinfo2\": \"NamespaceMagics\", \"matplotlib\": \"PylabMagics\", \"automagic\": \"AutoMagics\", \"doctest_mode\": \"KernelMagics\", \"logoff\": \"LoggingMagics\", \"reload_ext\": \"ExtensionMagics\", \"pdb\": \"ExecutionMagics\", \"load\": \"CodeMagics\", \"lsmagic\": \"BasicMagics\", \"autosave\": \"KernelMagics\", \"cd\": \"OSMagics\", \"pastebin\": \"CodeMagics\", \"prun\": \"ExecutionMagics\", \"autocall\": \"AutoMagics\", \"bookmark\": \"OSMagics\", \"connect_info\": \"KernelMagics\", \"mkdir\": \"Other\", \"system\": \"OSMagics\", \"whos\": \"NamespaceMagics\", \"rmdir\": \"Other\", \"unload_ext\": \"ExtensionMagics\", \"store\": \"StoreMagics\", \"more\": \"KernelMagics\", \"pdef\": \"NamespaceMagics\", \"precision\": \"BasicMagics\", \"pinfo\": \"NamespaceMagics\", \"pwd\": \"OSMagics\", \"psearch\": \"NamespaceMagics\", \"copy\": \"Other\", \"reset\": \"NamespaceMagics\", \"recall\": \"HistoryMagics\", \"xdel\": \"NamespaceMagics\", \"xmode\": \"BasicMagics\", \"rerun\": \"HistoryMagics\", \"logon\": \"LoggingMagics\", \"history\": \"HistoryMagics\", \"pycat\": \"OSMagics\", \"unalias\": \"OSMagics\", \"install_default_config\": \"DeprecatedMagics\", \"env\": \"OSMagics\", \"load_ext\": \"ExtensionMagics\", \"config\": \"ConfigMagics\", \"profile\": \"BasicMagics\", \"pfile\": \"NamespaceMagics\", \"less\": \"KernelMagics\", \"who\": \"NamespaceMagics\", \"notebook\": \"BasicMagics\", \"sx\": \"OSMagics\", \"macro\": \"ExecutionMagics\", \"clear\": \"KernelMagics\", \"alias\": \"OSMagics\", \"time\": \"ExecutionMagics\", \"sc\": \"OSMagics\", \"rep\": \"Other\", \"pdoc\": \"NamespaceMagics\"}}"
       ],
       "metadata": {},
       "output_type": "pyout",
       "prompt_number": 9,
       "text": [
        "Available line magics:\n",
        "%alias  %alias_magic  %autocall  %automagic  %autosave  %bookmark  %cd  %clear  %cls  %colors  %config  %connect_info  %copy  %ddir  %debug  %dhist  %dirs  %doctest_mode  %echo  %ed  %edit  %env  %gui  %hist  %history  %install_default_config  %install_ext  %install_profiles  %killbgscripts  %ldir  %less  %load  %load_ext  %loadpy  %logoff  %logon  %logstart  %logstate  %logstop  %ls  %lsmagic  %macro  %magic  %matplotlib  %mkdir  %more  %notebook  %page  %pastebin  %pdb  %pdef  %pdoc  %pfile  %pinfo  %pinfo2  %popd  %pprint  %precision  %profile  %prun  %psearch  %psource  %pushd  %pwd  %pycat  %pylab  %qtconsole  %quickref  %recall  %rehashx  %reload_ext  %ren  %rep  %rerun  %reset  %reset_selective  %rmdir  %run  %save  %sc  %store  %sx  %system  %tb  %time  %timeit  %unalias  %unload_ext  %who  %who_ls  %whos  %xdel  %xmode\n",
        "\n",
        "Available cell magics:\n",
        "%%!  %%HTML  %%SVG  %%bash  %%capture  %%cmd  %%debug  %%file  %%html  %%javascript  %%latex  %%perl  %%powershell  %%prun  %%pypy  %%python  %%python2  %%python3  %%ruby  %%script  %%sh  %%svg  %%sx  %%system  %%time  %%timeit  %%writefile\n",
        "\n",
        "Automagic is ON, % prefix IS NOT needed for line magics."
       ]
      }
     ],
     "prompt_number": 9
    },
    {
     "cell_type": "code",
     "collapsed": false,
     "input": [
      "from time import sleep\n",
      "% time sleep(1)"
     ],
     "language": "python",
     "metadata": {
      "slideshow": {
       "slide_type": "subslide"
      }
     },
     "outputs": [
      {
       "output_type": "stream",
       "stream": "stdout",
       "text": [
        "Wall time: 1 s\n"
       ]
      }
     ],
     "prompt_number": 10
    },
    {
     "cell_type": "code",
     "collapsed": false,
     "input": [
      "from time import sleep\n",
      "% timeit sleep(.1)"
     ],
     "language": "python",
     "metadata": {
      "slideshow": {
       "slide_type": "fragment"
      }
     },
     "outputs": [
      {
       "output_type": "stream",
       "stream": "stdout",
       "text": [
        "10 loops, best of 3: 100 ms per loop\n"
       ]
      }
     ],
     "prompt_number": 11
    },
    {
     "cell_type": "code",
     "collapsed": false,
     "input": [
      "from collections import Counter\n",
      "% prun Counter([1,2,3,4])"
     ],
     "language": "python",
     "metadata": {
      "slideshow": {
       "slide_type": "fragment"
      }
     },
     "outputs": [
      {
       "output_type": "stream",
       "stream": "stdout",
       "text": [
        " "
       ]
      }
     ],
     "prompt_number": 12
    },
    {
     "cell_type": "code",
     "collapsed": false,
     "input": [
      "%%time\n",
      "\n",
      "from time import sleep\n",
      "sleep(1)"
     ],
     "language": "python",
     "metadata": {
      "slideshow": {
       "slide_type": "subslide"
      }
     },
     "outputs": [
      {
       "output_type": "stream",
       "stream": "stdout",
       "text": [
        "Wall time: 1 s\n"
       ]
      }
     ],
     "prompt_number": 14
    },
    {
     "cell_type": "code",
     "collapsed": false,
     "input": [
      "%%timeit\n",
      "\n",
      "from time import sleep\n",
      "sleep(.1)"
     ],
     "language": "python",
     "metadata": {
      "slideshow": {
       "slide_type": "fragment"
      }
     },
     "outputs": [
      {
       "output_type": "stream",
       "stream": "stdout",
       "text": [
        "10 loops, best of 3: 100 ms per loop\n"
       ]
      }
     ],
     "prompt_number": 16
    },
    {
     "cell_type": "code",
     "collapsed": false,
     "input": [
      "%%prun\n",
      "\n",
      "from collections import Counter\n",
      "Counter([1,2,3,4])"
     ],
     "language": "python",
     "metadata": {
      "slideshow": {
       "slide_type": "fragment"
      }
     },
     "outputs": [
      {
       "output_type": "stream",
       "stream": "stdout",
       "text": [
        " "
       ]
      }
     ],
     "prompt_number": 17
    },
    {
     "cell_type": "code",
     "collapsed": false,
     "input": [
      "# use this to inline plots\n",
      "% matplotlib inline"
     ],
     "language": "python",
     "metadata": {
      "slideshow": {
       "slide_type": "subslide"
      }
     },
     "outputs": [],
     "prompt_number": 20
    },
    {
     "cell_type": "code",
     "collapsed": false,
     "input": [
      "from matplotlib.pyplot import hist\n",
      "\n",
      "hist([1,1,12,12,1,2,3,5], bins=3)"
     ],
     "language": "python",
     "metadata": {
      "slideshow": {
       "slide_type": "fragment"
      }
     },
     "outputs": [
      {
       "metadata": {},
       "output_type": "pyout",
       "prompt_number": 21,
       "text": [
        "(array([ 5.,  1.,  2.]),\n",
        " array([  1.        ,   4.66666667,   8.33333333,  12.        ]),\n",
        " <a list of 3 Patch objects>)"
       ]
      },
      {
       "metadata": {},
       "output_type": "display_data",
       "png": "[encoded data removed]",
       "text": [
        "<matplotlib.figure.Figure at 0xa9174a8>"
       ]
      }
     ],
     "prompt_number": 21
    },
    {
     "cell_type": "markdown",
     "metadata": {
      "slideshow": {
       "slide_type": "slide"
      }
     },
     "source": [
      "<h2 id=\"types\">Review: types (`string`, `list`, `dict`, `set`, `bool`, `date`, `datetime`, `timedelta`, numbers)</h2>"
     ]
    },
    {
     "cell_type": "markdown",
     "metadata": {
      "slideshow": {
       "slide_type": "subslide"
      }
     },
     "source": [
      "Mutability vs Immutability\n",
      "--------------------------\n",
      "\n",
      "- mutable: list, dict, set\n",
      "- immutable: string, bool, datetime, numbers\n",
      "- mutable: changes take effect immediately and directly\n",
      "- immutable: cannot change, operations return new values which must be reassigned\n",
      "\n",
      "        # mutable example\n",
      "        xs = [1,2,3,4]    \n",
      "        xs.append(5) # xs is changed\n",
      "        5 in xs\n",
      "    \n",
      "        # immutable example\n",
      "        s = 'hello world'\n",
      "        s = s.replace('hello', 'hi')\n",
      "        'hi' in s"
     ]
    },
    {
     "cell_type": "code",
     "collapsed": false,
     "input": [
      "10 / 3"
     ],
     "language": "python",
     "metadata": {
      "slideshow": {
       "slide_type": "subslide"
      }
     },
     "outputs": [
      {
       "metadata": {},
       "output_type": "pyout",
       "prompt_number": 1,
       "text": [
        "3"
       ]
      }
     ],
     "prompt_number": 1
    },
    {
     "cell_type": "code",
     "collapsed": false,
     "input": [
      "from __future__ import division # \"future import\"\n",
      "\n",
      "10 / 3"
     ],
     "language": "python",
     "metadata": {
      "slideshow": {
       "slide_type": "fragment"
      }
     },
     "outputs": [
      {
       "metadata": {},
       "output_type": "pyout",
       "prompt_number": 2,
       "text": [
        "3.3333333333333335"
       ]
      }
     ],
     "prompt_number": 2
    },
    {
     "cell_type": "markdown",
     "metadata": {
      "slideshow": {
       "slide_type": "subslide"
      }
     },
     "source": [
      "$$ x = \\frac{-b \\pm \\sqrt{b^2 - 4ac}}{2a} $$\n",
      "\n",
      "$$ ax^2 + bx + c $$\n",
      "\n",
      "$$ (x-1)(x-4) $$\n",
      "\n",
      "$$ x^2 - 5x + 4 $$"
     ]
    },
    {
     "cell_type": "code",
     "collapsed": false,
     "input": [
      "from math import sqrt\n",
      "\n",
      "a, b, c = 1, -5, 4\n",
      "\n",
      "x1 = (-b + sqrt(b**2 - 4*a*c))/(2*a)\n",
      "x2 = (-b - sqrt(b**2 - 4*a*c))/(2*a)\n",
      "\n",
      "x1, x2"
     ],
     "language": "python",
     "metadata": {
      "slideshow": {
       "slide_type": "fragment"
      }
     },
     "outputs": [
      {
       "metadata": {},
       "output_type": "pyout",
       "prompt_number": 4,
       "text": [
        "(4.0, 1.0)"
       ]
      }
     ],
     "prompt_number": 4
    },
    {
     "cell_type": "code",
     "collapsed": false,
     "input": [
      "songs = '''\n",
      "\u201cBack to the World\u201d \u2013 6:45\n",
      "\u201cFuture Shock\u201d \u2013 5:15\n",
      "\u201cRight on for the Darkness\u201d \u2013 7:27\n",
      "\u201cFuture Song (Love a Good Woman, Love a Good Man)\u201d \u2013 4:58\n",
      "\u201cIf I Were Only a Child Again\u201d \u2013 2:49\n",
      "\u201cCan't Say Nothin'\u201d \u2013 5:13\n",
      "\u201cKeep on Trippin'\u201d \u2013 3:12\n",
      "'''\n",
      "artist = 'Curtis Mayfield'\n",
      "album = 'Back to the World'\n",
      "\n",
      "for filename, song in enumerate(songs.strip().split('\\n'), start=1):\n",
      "    song = song.split('\u2013')[0]\n",
      "    song = song.replace('\u201c', '').replace('\u201d', '').strip()\n",
      "    filename = ('%02d' % filename) + '.mp3'\n",
      "    print 'mv', filename, '\"' + ' - '.join([artist, album, song]) + '.mp3' + '\"'"
     ],
     "language": "python",
     "metadata": {
      "slideshow": {
       "slide_type": "subslide"
      }
     },
     "outputs": [
      {
       "output_type": "stream",
       "stream": "stdout",
       "text": [
        "mv 01.mp3 \"Curtis Mayfield - Back to the World - Back to the World.mp3\"\n",
        "mv 02.mp3 \"Curtis Mayfield - Back to the World - Future Shock.mp3\"\n",
        "mv 03.mp3 \"Curtis Mayfield - Back to the World - Right on for the Darkness.mp3\"\n",
        "mv 04.mp3 \"Curtis Mayfield - Back to the World - Future Song (Love a Good Woman, Love a Good Man).mp3\"\n",
        "mv 05.mp3 \"Curtis Mayfield - Back to the World - If I Were Only a Child Again.mp3\"\n",
        "mv 06.mp3 \"Curtis Mayfield - Back to the World - Can't Say Nothin'.mp3\"\n",
        "mv 07.mp3 \"Curtis Mayfield - Back to the World - Keep on Trippin'.mp3\"\n"
       ]
      }
     ],
     "prompt_number": 10
    },
    {
     "cell_type": "code",
     "collapsed": false,
     "input": [
      "from random import randrange\n",
      "\n",
      "xs = []\n",
      "for _ in xrange(1000):\n",
      "    xs.append(randrange(0,100))\n",
      "    \n",
      "mean = sum(xs) / len(xs)\n",
      "\n",
      "xs.sort()\n",
      "y = xs[len(xs)//2 - 1:len(xs)//2 + 1]\n",
      "median = sum(y) / len(y)\n",
      "\n",
      "mean, median"
     ],
     "language": "python",
     "metadata": {
      "slideshow": {
       "slide_type": "subslide"
      }
     },
     "outputs": [
      {
       "metadata": {},
       "output_type": "pyout",
       "prompt_number": 11,
       "text": [
        "(50.807, 52.0)"
       ]
      }
     ],
     "prompt_number": 11
    },
    {
     "cell_type": "code",
     "collapsed": false,
     "input": [
      "freq = {}\n",
      "for x in xs:\n",
      "    if x in freq:\n",
      "        freq[x] += 1\n",
      "    else:\n",
      "        freq[x] = 1\n",
      "\n",
      "mode = None\n",
      "for num in freq:\n",
      "    if mode is None:\n",
      "        mode = num\n",
      "    elif freq[mode] < freq[num]:\n",
      "        mode = num     \n",
      "mode"
     ],
     "language": "python",
     "metadata": {
      "slideshow": {
       "slide_type": "subslide"
      }
     },
     "outputs": [
      {
       "metadata": {},
       "output_type": "pyout",
       "prompt_number": 12,
       "text": [
        "47"
       ]
      }
     ],
     "prompt_number": 12
    },
    {
     "cell_type": "code",
     "collapsed": false,
     "input": [
      "from dateutil.parser import parse\n",
      "\n",
      "holidays = '''\n",
      "Friday, December 31, 1999       | New Year\u2019s Day\n",
      "Monday, January 17, 2000        | Birthday of Martin Luther King, Jr.\n",
      "Monday, February 21, 2000       | Washington\u2019s Birthday\n",
      "Monday, May 29, 2000            | Memorial Day\n",
      "Tuesday, July 4, 2000           | Independence Day\n",
      "Monday, September 4, 2000       | Labor Day\n",
      "Monday, October 9, 2000         | Columbus Day\n",
      "Friday, November 10, 2000       | Veterans Day\n",
      "Thursday, November 23, 2000     | Thanksgiving Day\n",
      "Monday, December 25, 2000       | Christmas Day\n",
      "'''\n",
      "\n",
      "calendar = {}\n",
      "for holiday in holidays.strip().split('\\n'):\n",
      "    holiday = holiday.split('|')\n",
      "    dt = holiday[0].strip()\n",
      "    name = holiday[1].strip()\n",
      "    calendar[name] = parse(dt).date()\n",
      "calendar"
     ],
     "language": "python",
     "metadata": {
      "slideshow": {
       "slide_type": "subslide"
      }
     },
     "outputs": [
      {
       "metadata": {},
       "output_type": "pyout",
       "prompt_number": 20,
       "text": [
        "{'Birthday of Martin Luther King, Jr.': datetime.date(2000, 1, 17),\n",
        " 'Christmas Day': datetime.date(2000, 12, 25),\n",
        " 'Columbus Day': datetime.date(2000, 10, 9),\n",
        " 'Independence Day': datetime.date(2000, 7, 4),\n",
        " 'Labor Day': datetime.date(2000, 9, 4),\n",
        " 'Memorial Day': datetime.date(2000, 5, 29),\n",
        " 'New Year\\xe2\\x80\\x99s Day': datetime.date(1999, 12, 31),\n",
        " 'Thanksgiving Day': datetime.date(2000, 11, 23),\n",
        " 'Veterans Day': datetime.date(2000, 11, 10),\n",
        " 'Washington\\xe2\\x80\\x99s Birthday': datetime.date(2000, 2, 21)}"
       ]
      }
     ],
     "prompt_number": 20
    },
    {
     "cell_type": "code",
     "collapsed": false,
     "input": [
      "from datetime import date, timedelta\n",
      "\n",
      "distances = {}\n",
      "first_day = date(2000,1,1)\n",
      "for offset in xrange(366):\n",
      "    current_day = first_day + timedelta(days=offset)\n",
      "    for holiday in sorted(calendar.values()):\n",
      "        if holiday >= current_day:\n",
      "            distance = (holiday - current_day).days\n",
      "            break\n",
      "    distances[current_day] = distance\n",
      "\n",
      "longest = 0\n",
      "longest_day = None\n",
      "for dt, distance in distances.items():\n",
      "    if distance > longest:\n",
      "        longest = distance\n",
      "        longest_day = dt\n",
      "dt, longest"
     ],
     "language": "python",
     "metadata": {
      "slideshow": {
       "slide_type": "subslide"
      }
     },
     "outputs": [
      {
       "metadata": {},
       "output_type": "pyout",
       "prompt_number": 23,
       "text": [
        "(datetime.date(2000, 4, 28), 97)"
       ]
      }
     ],
     "prompt_number": 23
    },
    {
     "cell_type": "code",
     "collapsed": false,
     "input": [
      "three_day_weekends = set()\n",
      "for name, dt in calendar.items():\n",
      "    if dt.weekday() in set([0,4]):\n",
      "        three_day_weekends.add(name)\n",
      "three_day_weekends"
     ],
     "language": "python",
     "metadata": {
      "slideshow": {
       "slide_type": "subslide"
      }
     },
     "outputs": [
      {
       "metadata": {},
       "output_type": "pyout",
       "prompt_number": 26,
       "text": [
        "{'Birthday of Martin Luther King, Jr.',\n",
        " 'Christmas Day',\n",
        " 'Columbus Day',\n",
        " 'Labor Day',\n",
        " 'Memorial Day',\n",
        " 'New Year\\xe2\\x80\\x99s Day',\n",
        " 'Veterans Day',\n",
        " 'Washington\\xe2\\x80\\x99s Birthday'}"
       ]
      }
     ],
     "prompt_number": 26
    },
    {
     "cell_type": "markdown",
     "metadata": {
      "slideshow": {
       "slide_type": "slide"
      }
     },
     "source": [
      "<h2 id=\"operations\">Review: operations (arithmetic, boolean, comparisons)</h2>"
     ]
    },
    {
     "cell_type": "code",
     "collapsed": false,
     "input": [
      "x, y = 11, 3\n",
      "\n",
      "print 'x + y =',  x + y\n",
      "print 'x - y =',  x - y\n",
      "print 'x * y =',  x * y\n",
      "print 'x / y =',  x / y\n",
      "print 'x // y =', x // y\n",
      "print 'x % y =',  x % y\n",
      "print 'x ** y =', x ** y"
     ],
     "language": "python",
     "metadata": {
      "slideshow": {
       "slide_type": "subslide"
      }
     },
     "outputs": [
      {
       "output_type": "stream",
       "stream": "stdout",
       "text": [
        "x + y = 14\n",
        "x - y = 8\n",
        "x * y = 33\n",
        "x / y = 3.66666666667\n",
        "x // y = 3\n",
        "x % y = 2\n",
        "x ** y = 1331\n"
       ]
      }
     ],
     "prompt_number": 32
    },
    {
     "cell_type": "code",
     "collapsed": false,
     "input": [
      "x, y = True, False\n",
      "\n",
      "print 'x and y -> ', x and y\n",
      "print 'x or y ->', x or y\n",
      "print 'not x', not x\n",
      "\n",
      "x, y = 'asdf', [1,2,3]\n",
      "\n",
      "print 'x and y -> ', bool(x and y)\n",
      "print 'x or y ->', bool(x or y)\n",
      "print 'not x', not x"
     ],
     "language": "python",
     "metadata": {
      "slideshow": {
       "slide_type": "subslide"
      }
     },
     "outputs": [
      {
       "output_type": "stream",
       "stream": "stdout",
       "text": [
        "x and y ->  False\n",
        "x or y -> True\n",
        "not x False\n",
        "x and y ->  True\n",
        "x or y -> True\n",
        "not x False\n"
       ]
      }
     ],
     "prompt_number": 39
    },
    {
     "cell_type": "markdown",
     "metadata": {
      "slideshow": {
       "slide_type": "slide"
      }
     },
     "source": [
      "<h2 id=\"functions\">Review: simple functions & calling conventions</h2>"
     ]
    },
    {
     "cell_type": "code",
     "collapsed": false,
     "input": [
      "from IPython.display import IFrame, HTML, display\n",
      "\n",
      "def my_frame(url, height=350, width='100%'):\n",
      "    display(HTML('<a href=\"' + url + '\">' + url + '</a>'))\n",
      "    display(IFrame(url, height=height, width=width))\n",
      "\n",
      "my_frame('http://www.infiniteskills.com')"
     ],
     "language": "python",
     "metadata": {
      "slideshow": {
       "slide_type": "subslide"
      }
     },
     "outputs": [
      {
       "html": [
        "<a href=\"http://www.infiniteskills.com\">http://www.infiniteskills.com</a>"
       ],
       "metadata": {},
       "output_type": "display_data",
       "text": [
        "<IPython.core.display.HTML at 0x40e2f60>"
       ]
      },
      {
       "html": [
        "\n",
        "        <iframe\n",
        "            width=\"100%\"\n",
        "            height=350\"\n",
        "            src=\"http://www.infiniteskills.com\"\n",
        "            frameborder=\"0\"\n",
        "            allowfullscreen\n",
        "        ></iframe>\n",
        "        "
       ],
       "metadata": {},
       "output_type": "display_data",
       "text": [
        "<IPython.lib.display.IFrame at 0x4286470>"
       ]
      }
     ],
     "prompt_number": 52
    },
    {
     "cell_type": "markdown",
     "metadata": {
      "slideshow": {
       "slide_type": "slide"
      }
     },
     "source": [
      "<h2 id=\"methods\">Review: methods</h2>"
     ]
    },
    {
     "cell_type": "code",
     "collapsed": false,
     "input": [
      "# functions\n",
      "len([1,2,3])\n",
      "\n",
      "from math import sqrt\n",
      "sqrt(100)\n",
      "\n",
      "# methods\n",
      "xs = [1, 2, 3]\n",
      "xs.sort(reverse=True)\n",
      "print xs"
     ],
     "language": "python",
     "metadata": {
      "slideshow": {
       "slide_type": "subslide"
      }
     },
     "outputs": [
      {
       "output_type": "stream",
       "stream": "stdout",
       "text": [
        "[3, 2, 1]\n"
       ]
      }
     ],
     "prompt_number": 53
    },
    {
     "cell_type": "markdown",
     "metadata": {
      "slideshow": {
       "slide_type": "slide"
      }
     },
     "source": [
      "<h2 id=\"help\">Review: `help` and `dir` and more</h2>"
     ]
    },
    {
     "cell_type": "code",
     "collapsed": false,
     "input": [
      "import math\n",
      "math?"
     ],
     "language": "python",
     "metadata": {
      "slideshow": {
       "slide_type": "subslide"
      }
     },
     "outputs": [],
     "prompt_number": 54
    },
    {
     "cell_type": "code",
     "collapsed": false,
     "input": [
      "dir(math)"
     ],
     "language": "python",
     "metadata": {
      "slideshow": {
       "slide_type": "subslide"
      }
     },
     "outputs": [
      {
       "metadata": {},
       "output_type": "pyout",
       "prompt_number": 55,
       "text": [
        "['__doc__',\n",
        " '__name__',\n",
        " '__package__',\n",
        " 'acos',\n",
        " 'acosh',\n",
        " 'asin',\n",
        " 'asinh',\n",
        " 'atan',\n",
        " 'atan2',\n",
        " 'atanh',\n",
        " 'ceil',\n",
        " 'copysign',\n",
        " 'cos',\n",
        " 'cosh',\n",
        " 'degrees',\n",
        " 'e',\n",
        " 'erf',\n",
        " 'erfc',\n",
        " 'exp',\n",
        " 'expm1',\n",
        " 'fabs',\n",
        " 'factorial',\n",
        " 'floor',\n",
        " 'fmod',\n",
        " 'frexp',\n",
        " 'fsum',\n",
        " 'gamma',\n",
        " 'hypot',\n",
        " 'isinf',\n",
        " 'isnan',\n",
        " 'ldexp',\n",
        " 'lgamma',\n",
        " 'log',\n",
        " 'log10',\n",
        " 'log1p',\n",
        " 'modf',\n",
        " 'pi',\n",
        " 'pow',\n",
        " 'radians',\n",
        " 'sin',\n",
        " 'sinh',\n",
        " 'sqrt',\n",
        " 'tan',\n",
        " 'tanh',\n",
        " 'trunc']"
       ]
      }
     ],
     "prompt_number": 55
    },
    {
     "cell_type": "code",
     "collapsed": false,
     "input": [
      "help(math.sin)\n",
      "math.sin?"
     ],
     "language": "python",
     "metadata": {
      "slideshow": {
       "slide_type": "subslide"
      }
     },
     "outputs": [
      {
       "output_type": "stream",
       "stream": "stdout",
       "text": [
        "Help on built-in function sin in module math:\n",
        "\n",
        "sin(...)\n",
        "    sin(x)\n",
        "    \n",
        "    Return the sine of x (measured in radians).\n",
        "\n"
       ]
      }
     ],
     "prompt_number": 57
    },
    {
     "cell_type": "code",
     "collapsed": false,
     "input": [
      "xs = []\n",
      "dir(xs)"
     ],
     "language": "python",
     "metadata": {
      "slideshow": {
       "slide_type": "subslide"
      }
     },
     "outputs": [
      {
       "metadata": {},
       "output_type": "pyout",
       "prompt_number": 58,
       "text": [
        "['__add__',\n",
        " '__class__',\n",
        " '__contains__',\n",
        " '__delattr__',\n",
        " '__delitem__',\n",
        " '__delslice__',\n",
        " '__doc__',\n",
        " '__eq__',\n",
        " '__format__',\n",
        " '__ge__',\n",
        " '__getattribute__',\n",
        " '__getitem__',\n",
        " '__getslice__',\n",
        " '__gt__',\n",
        " '__hash__',\n",
        " '__iadd__',\n",
        " '__imul__',\n",
        " '__init__',\n",
        " '__iter__',\n",
        " '__le__',\n",
        " '__len__',\n",
        " '__lt__',\n",
        " '__mul__',\n",
        " '__ne__',\n",
        " '__new__',\n",
        " '__reduce__',\n",
        " '__reduce_ex__',\n",
        " '__repr__',\n",
        " '__reversed__',\n",
        " '__rmul__',\n",
        " '__setattr__',\n",
        " '__setitem__',\n",
        " '__setslice__',\n",
        " '__sizeof__',\n",
        " '__str__',\n",
        " '__subclasshook__',\n",
        " 'append',\n",
        " 'count',\n",
        " 'extend',\n",
        " 'index',\n",
        " 'insert',\n",
        " 'pop',\n",
        " 'remove',\n",
        " 'reverse',\n",
        " 'sort']"
       ]
      }
     ],
     "prompt_number": 58
    },
    {
     "cell_type": "markdown",
     "metadata": {
      "slideshow": {
       "slide_type": "slide"
      }
     },
     "source": [
      "<h2 id=\"modules\">Review: modules</h2>"
     ]
    },
    {
     "cell_type": "code",
     "collapsed": false,
     "input": [
      "from math import sqrt\n",
      "\n",
      "sqrt(4)"
     ],
     "language": "python",
     "metadata": {
      "slideshow": {
       "slide_type": "subslide"
      }
     },
     "outputs": [
      {
       "metadata": {},
       "output_type": "pyout",
       "prompt_number": 1,
       "text": [
        "2.0"
       ]
      }
     ],
     "prompt_number": 1
    },
    {
     "cell_type": "code",
     "collapsed": false,
     "input": [
      "import math\n",
      "\n",
      "math.sqrt(4)"
     ],
     "language": "python",
     "metadata": {
      "slideshow": {
       "slide_type": "subslide"
      }
     },
     "outputs": [
      {
       "metadata": {},
       "output_type": "pyout",
       "prompt_number": 2,
       "text": [
        "2.0"
       ]
      }
     ],
     "prompt_number": 2
    },
    {
     "cell_type": "code",
     "collapsed": false,
     "input": [
      "from string import ascii_lowercase\n",
      "\n",
      "ascii_lowercase"
     ],
     "language": "python",
     "metadata": {
      "slideshow": {
       "slide_type": "subslide"
      }
     },
     "outputs": [
      {
       "metadata": {},
       "output_type": "pyout",
       "prompt_number": 4,
       "text": [
        "'abcdefghijklmnopqrstuvwxyz'"
       ]
      }
     ],
     "prompt_number": 4
    },
    {
     "cell_type": "code",
     "collapsed": false,
     "input": [
      "from random import choice\n",
      "\n",
      "choice(ascii_lowercase)"
     ],
     "language": "python",
     "metadata": {
      "slideshow": {
       "slide_type": "subslide"
      }
     },
     "outputs": [
      {
       "metadata": {},
       "output_type": "pyout",
       "prompt_number": 6,
       "text": [
        "'c'"
       ]
      }
     ],
     "prompt_number": 6
    },
    {
     "cell_type": "code",
     "collapsed": false,
     "input": [
      "% matplotlib inline"
     ],
     "language": "python",
     "metadata": {
      "slideshow": {
       "slide_type": "subslide"
      }
     },
     "outputs": [],
     "prompt_number": 11
    },
    {
     "cell_type": "code",
     "collapsed": false,
     "input": [
      "from matplotlib.pyplot import plot\n",
      "from numpy.random import randint\n",
      "\n",
      "xs = randint(0,10, size=20)\n",
      "ys = randint(0,10, size=20)\n",
      "\n",
      "print xs\n",
      "print ys\n",
      "plot(xs, ys, 'go')"
     ],
     "language": "python",
     "metadata": {
      "slideshow": {
       "slide_type": "subslide"
      }
     },
     "outputs": [
      {
       "output_type": "stream",
       "stream": "stdout",
       "text": [
        "[5 3 0 4 2 2 9 7 6 4 9 9 0 7 8 8 5 2 2 9]\n",
        "[5 2 3 6 2 9 7 3 2 5 4 6 1 2 8 2 7 1 6 6]\n"
       ]
      },
      {
       "metadata": {},
       "output_type": "pyout",
       "prompt_number": 17,
       "text": [
        "[<matplotlib.lines.Line2D at 0x7f7a0ba1ef50>]"
       ]
      },
      {
       "metadata": {},
       "output_type": "display_data",
       "png": "[encoded data removed]",
       "text": [
        "<matplotlib.figure.Figure at 0x7f7a0baafa10>"
       ]
      }
     ],
     "prompt_number": 17
    },
    {
     "cell_type": "markdown",
     "metadata": {
      "slideshow": {
       "slide_type": "subslide"
      }
     },
     "source": [
      "Standard Library:\n",
      "https://docs.python.org/2/library/"
     ]
    },
    {
     "cell_type": "markdown",
     "metadata": {
      "slideshow": {
       "slide_type": "slide"
      }
     },
     "source": [
      "<h2 id=\"string\">Review: `string`</h2>"
     ]
    },
    {
     "cell_type": "code",
     "collapsed": false,
     "input": [
      "import string\n",
      "print ' '.join(dir(string))"
     ],
     "language": "python",
     "metadata": {
      "slideshow": {
       "slide_type": "subslide"
      }
     },
     "outputs": [
      {
       "output_type": "stream",
       "stream": "stdout",
       "text": [
        "Formatter Template _TemplateMetaclass __builtins__ __doc__ __file__ __name__ __package__ _float _idmap _idmapL _int _long _multimap _re ascii_letters ascii_lowercase ascii_uppercase atof atof_error atoi atoi_error atol atol_error capitalize capwords center count digits expandtabs find hexdigits index index_error join joinfields letters ljust lower lowercase lstrip maketrans octdigits printable punctuation replace rfind rindex rjust rsplit rstrip split splitfields strip swapcase translate upper uppercase whitespace zfill\n"
       ]
      }
     ],
     "prompt_number": 21
    },
    {
     "cell_type": "code",
     "collapsed": false,
     "input": [
      "from string import ascii_lowercase, ascii_uppercase, digits, punctuation\n",
      "\n",
      "print ascii_lowercase\n",
      "print ascii_uppercase\n",
      "print digits\n",
      "print punctuation"
     ],
     "language": "python",
     "metadata": {
      "slideshow": {
       "slide_type": "subslide"
      }
     },
     "outputs": [
      {
       "output_type": "stream",
       "stream": "stdout",
       "text": [
        "abcdefghijklmnopqrstuvwxyz\n",
        "ABCDEFGHIJKLMNOPQRSTUVWXYZ\n",
        "0123456789\n",
        "!\"#$%&'()*+,-./:;<=>?@[\\]^_`{|}~\n"
       ]
      }
     ],
     "prompt_number": 23
    },
    {
     "cell_type": "markdown",
     "metadata": {
      "slideshow": {
       "slide_type": "slide"
      }
     },
     "source": [
      "<h2 id=\"random\">Review: `random`</h2>"
     ]
    },
    {
     "cell_type": "code",
     "collapsed": false,
     "input": [
      "import random\n",
      "print ' '.join(dir(random))"
     ],
     "language": "python",
     "metadata": {
      "slideshow": {
       "slide_type": "subslide"
      }
     },
     "outputs": [
      {
       "output_type": "stream",
       "stream": "stdout",
       "text": [
        "BPF LOG4 NV_MAGICCONST RECIP_BPF Random SG_MAGICCONST SystemRandom TWOPI WichmannHill _BuiltinMethodType _MethodType __all__ __builtins__ __doc__ __file__ __name__ __package__ _acos _ceil _cos _e _exp _hashlib _hexlify _inst _log _pi _random _sin _sqrt _test _test_generator _urandom _warn betavariate choice division expovariate gammavariate gauss getrandbits getstate jumpahead lognormvariate normalvariate paretovariate randint random randrange sample seed setstate shuffle triangular uniform vonmisesvariate weibullvariate\n"
       ]
      }
     ],
     "prompt_number": 24
    },
    {
     "cell_type": "code",
     "collapsed": false,
     "input": [
      "from random import choice\n",
      "\n",
      "choice(['apple', 'orange', 'banana'])"
     ],
     "language": "python",
     "metadata": {
      "slideshow": {
       "slide_type": "subslide"
      }
     },
     "outputs": [
      {
       "metadata": {},
       "output_type": "pyout",
       "prompt_number": 25,
       "text": [
        "'apple'"
       ]
      }
     ],
     "prompt_number": 25
    },
    {
     "cell_type": "code",
     "collapsed": false,
     "input": [
      "from random import random\n",
      "\n",
      "random()"
     ],
     "language": "python",
     "metadata": {
      "slideshow": {
       "slide_type": "subslide"
      }
     },
     "outputs": [
      {
       "metadata": {},
       "output_type": "pyout",
       "prompt_number": 26,
       "text": [
        "0.9691836748355298"
       ]
      }
     ],
     "prompt_number": 26
    },
    {
     "cell_type": "code",
     "collapsed": false,
     "input": [
      "from random import randrange, randint\n",
      "\n",
      "randrange(0, 10), randint(0,10)"
     ],
     "language": "python",
     "metadata": {
      "slideshow": {
       "slide_type": "subslide"
      }
     },
     "outputs": [
      {
       "metadata": {},
       "output_type": "pyout",
       "prompt_number": 35,
       "text": [
        "(3, 10)"
       ]
      }
     ],
     "prompt_number": 35
    },
    {
     "cell_type": "code",
     "collapsed": false,
     "input": [
      "from numpy.random import choice, randint, uniform\n",
      "\n",
      "print randint(0, 10, size=5)\n",
      "print uniform(-.1, .1, size=5)\n",
      "\n",
      "flavors = 'chocolate', 'vanilla'\n",
      "print choice(flavors)"
     ],
     "language": "python",
     "metadata": {
      "slideshow": {
       "slide_type": "subslide"
      }
     },
     "outputs": [
      {
       "output_type": "stream",
       "stream": "stdout",
       "text": [
        "[2 3 2 6 6]\n",
        "[ 0.08532244  0.05906105 -0.08641334  0.02662457  0.0952849 ]\n",
        "chocolate\n"
       ]
      }
     ],
     "prompt_number": 39
    },
    {
     "cell_type": "markdown",
     "metadata": {
      "slideshow": {
       "slide_type": "slide"
      }
     },
     "source": [
      "<h2 id=\"requests\">Review: `requests`</h2>"
     ]
    },
    {
     "cell_type": "code",
     "collapsed": false,
     "input": [
      "from requests import get\n",
      "\n",
      "help(get)"
     ],
     "language": "python",
     "metadata": {
      "slideshow": {
       "slide_type": "subslide"
      }
     },
     "outputs": [
      {
       "output_type": "stream",
       "stream": "stdout",
       "text": [
        "Help on function get in module requests.api:\n",
        "\n",
        "get(url, **kwargs)\n",
        "    Sends a GET request. Returns :class:`Response` object.\n",
        "    \n",
        "    :param url: URL for the new :class:`Request` object.\n",
        "    :param \\*\\*kwargs: Optional arguments that ``request`` takes.\n",
        "\n"
       ]
      }
     ],
     "prompt_number": 41
    },
    {
     "cell_type": "code",
     "collapsed": false,
     "input": [
      "get('http://coinabul.com/api.php')"
     ],
     "language": "python",
     "metadata": {
      "slideshow": {
       "slide_type": "subslide"
      }
     },
     "outputs": [
      {
       "metadata": {},
       "output_type": "pyout",
       "prompt_number": 54,
       "text": [
        "<Response [200]>"
       ]
      }
     ],
     "prompt_number": 54
    },
    {
     "cell_type": "code",
     "collapsed": false,
     "input": [
      "response = get('http://coinabul.com/api.php')\n",
      "response.content"
     ],
     "language": "python",
     "metadata": {
      "slideshow": {
       "slide_type": "subslide"
      }
     },
     "outputs": [
      {
       "metadata": {},
       "output_type": "pyout",
       "prompt_number": 133,
       "text": [
        "'{\"BTC\":{\"USD\":\"345.407300000000\",\"Ounces\":0.28212635801068,\"Grams\":8.7751106310537,\"SilverOunces\":19.942684754712,\"SilverGrams\":620.2868325979},\"Gold\":{\"USD\":\"1224.300000000000\",\"Ounces\":3.5445110743172,\"Grams\":0.11395867726007},\"Silver\":{\"USD\":\"17.320000000000\",\"Ounces\":0.050143699916012,\"Grams\":0.001612157388013}}'"
       ]
      }
     ],
     "prompt_number": 133
    },
    {
     "cell_type": "code",
     "collapsed": false,
     "input": [
      "response.json()"
     ],
     "language": "python",
     "metadata": {
      "slideshow": {
       "slide_type": "fragment"
      }
     },
     "outputs": [
      {
       "metadata": {},
       "output_type": "pyout",
       "prompt_number": 134,
       "text": [
        "{u'BTC': {u'Grams': 8.7751106310537,\n",
        "  u'Ounces': 0.28212635801068,\n",
        "  u'SilverGrams': 620.2868325979,\n",
        "  u'SilverOunces': 19.942684754712,\n",
        "  u'USD': u'345.407300000000'},\n",
        " u'Gold': {u'Grams': 0.11395867726007,\n",
        "  u'Ounces': 3.5445110743172,\n",
        "  u'USD': u'1224.300000000000'},\n",
        " u'Silver': {u'Grams': 0.001612157388013,\n",
        "  u'Ounces': 0.050143699916012,\n",
        "  u'USD': u'17.320000000000'}}"
       ]
      }
     ],
     "prompt_number": 134
    },
    {
     "cell_type": "code",
     "collapsed": false,
     "input": [
      "response.json()['BTC']['USD']"
     ],
     "language": "python",
     "metadata": {
      "slideshow": {
       "slide_type": "fragment"
      }
     },
     "outputs": [
      {
       "metadata": {},
       "output_type": "pyout",
       "prompt_number": 53,
       "text": [
        "u'346.464600000000'"
       ]
      }
     ],
     "prompt_number": 53
    },
    {
     "cell_type": "code",
     "collapsed": false,
     "input": [
      "from requests import get\n",
      "from bs4 import BeautifulSoup\n",
      "\n",
      "url = 'https://docs.python.org/2/library/'\n",
      "response = get(url)\n",
      "content = response.content\n",
      "bs = BeautifulSoup(content)\n",
      "bs.find_all('span')[-5:]"
     ],
     "language": "python",
     "metadata": {
      "slideshow": {
       "slide_type": "subslide"
      }
     },
     "outputs": [
      {
       "metadata": {},
       "output_type": "pyout",
       "prompt_number": 140,
       "text": [
        "[<span class=\"pre\">jpeg</span>,\n",
        " <span class=\"pre\">sunaudiodev</span>,\n",
        " <span class=\"pre\">SUNAUDIODEV</span>,\n",
        " <span class=\"pre\">sunaudiodev</span>,\n",
        " <span class=\"version_switcher_placeholder\">2.7.8</span>]"
       ]
      }
     ],
     "prompt_number": 140
    },
    {
     "cell_type": "code",
     "collapsed": false,
     "input": [
      "mods = {li.find('span').text.lower()            \n",
      "           for li in bs.find_all('li') \n",
      "           if li.find('span') and\n",
      "              'class' in li.find('span').attrs and \n",
      "              'pre' in li.find('span').attrs['class']}"
     ],
     "language": "python",
     "metadata": {
      "slideshow": {
       "slide_type": "subslide"
      }
     },
     "outputs": [],
     "prompt_number": 145
    },
    {
     "cell_type": "code",
     "collapsed": false,
     "input": [
      "print '\\n'.join(sorted(mods)[-5:])"
     ],
     "language": "python",
     "metadata": {
      "slideshow": {
       "slide_type": "fragment"
      }
     },
     "outputs": [
      {
       "output_type": "stream",
       "stream": "stdout",
       "text": [
        "xml.sax.xmlreader\n",
        "xmlrpclib\n",
        "zipfile\n",
        "zipimport\n",
        "zlib\n"
       ]
      }
     ],
     "prompt_number": 147
    },
    {
     "cell_type": "markdown",
     "metadata": {
      "slideshow": {
       "slide_type": "slide"
      }
     },
     "source": [
      "<h2 id=\"numpy\">Review: `numpy`</h2>"
     ]
    },
    {
     "cell_type": "code",
     "collapsed": false,
     "input": [
      "from numpy import log, arange\n",
      "from matplotlib.pyplot import plot\n",
      "\n",
      "xs = arange(1, 10)\n",
      "ys = log(xs)\n",
      "\n",
      "plot(xs, ys, 'go')"
     ],
     "language": "python",
     "metadata": {
      "slideshow": {
       "slide_type": "subslide"
      }
     },
     "outputs": [
      {
       "metadata": {},
       "output_type": "pyout",
       "prompt_number": 101,
       "text": [
        "[<matplotlib.lines.Line2D at 0x7f7a09cd8290>]"
       ]
      },
      {
       "metadata": {},
       "output_type": "display_data",
       "png": "[encoded data removed]",
       "text": [
        "<matplotlib.figure.Figure at 0x7f7a09d5a9d0>"
       ]
      }
     ],
     "prompt_number": 101
    },
    {
     "cell_type": "code",
     "collapsed": false,
     "input": [
      "from numpy import log, linspace\n",
      "from matplotlib.pyplot import plot\n",
      "\n",
      "xs = linspace(1, 10, 1000)\n",
      "ys = log(xs)\n",
      "\n",
      "plot(xs, ys, 'g.')"
     ],
     "language": "python",
     "metadata": {
      "slideshow": {
       "slide_type": "subslide"
      }
     },
     "outputs": [
      {
       "metadata": {},
       "output_type": "pyout",
       "prompt_number": 104,
       "text": [
        "[<matplotlib.lines.Line2D at 0x7f7a09b399d0>]"
       ]
      },
      {
       "metadata": {},
       "output_type": "display_data",
       "png": "[encoded data removed]",
       "text": [
        "<matplotlib.figure.Figure at 0x7f7a09be4610>"
       ]
      }
     ],
     "prompt_number": 104
    },
    {
     "cell_type": "code",
     "collapsed": false,
     "input": [
      "plot(xs, ys, 'g-')"
     ],
     "language": "python",
     "metadata": {
      "slideshow": {
       "slide_type": "subslide"
      }
     },
     "outputs": [
      {
       "metadata": {},
       "output_type": "pyout",
       "prompt_number": 105,
       "text": [
        "[<matplotlib.lines.Line2D at 0x7f7a09ae3d50>]"
       ]
      },
      {
       "metadata": {},
       "output_type": "display_data",
       "png": "[encoded data removed]",
       "text": [
        "<matplotlib.figure.Figure at 0x7f7a09fdec50>"
       ]
      }
     ],
     "prompt_number": 105
    },
    {
     "cell_type": "code",
     "collapsed": false,
     "input": [
      "from math import cos, sin, pi\n",
      "\n",
      "print cos(pi)\n",
      "print sin(pi)"
     ],
     "language": "python",
     "metadata": {
      "slideshow": {
       "slide_type": "subslide"
      }
     },
     "outputs": [
      {
       "output_type": "stream",
       "stream": "stdout",
       "text": [
        "-1.0\n",
        "1.22464679915e-16\n"
       ]
      }
     ],
     "prompt_number": 107
    },
    {
     "cell_type": "code",
     "collapsed": false,
     "input": [
      "from numpy import cos, sin, tan, pi, linspace\n",
      "from matplotlib.pyplot import plot, xlim, ylim\n",
      "\n",
      "xs = linspace(-2*pi, 2*pi, num=1000)\n",
      "sin_xs = sin(xs)\n",
      "cos_xs = cos(xs)\n",
      "tan_xs = tan(xs)\n",
      "\n",
      "plot(xs, sin_xs, 'b-')\n",
      "plot(xs, cos_xs, 'g-')\n",
      "plot(xs, tan_xs, 'r-')\n",
      "\n",
      "xlim(-2*pi, 2*pi)\n",
      "ylim(-2, 2)"
     ],
     "language": "python",
     "metadata": {
      "slideshow": {
       "slide_type": "subslide"
      }
     },
     "outputs": [
      {
       "metadata": {},
       "output_type": "pyout",
       "prompt_number": 113,
       "text": [
        "(-2, 2)"
       ]
      },
      {
       "metadata": {},
       "output_type": "display_data",
       "png": "[encoded data removed]",
       "text": [
        "<matplotlib.figure.Figure at 0x7f7a0998dad0>"
       ]
      }
     ],
     "prompt_number": 113
    },
    {
     "cell_type": "markdown",
     "metadata": {
      "slideshow": {
       "slide_type": "slide"
      }
     },
     "source": [
      "<h2 id=\"matplotlib\">Review: `matplotlib`</h2>"
     ]
    },
    {
     "cell_type": "code",
     "collapsed": false,
     "input": [
      "% matplotlib inline"
     ],
     "language": "python",
     "metadata": {
      "slideshow": {
       "slide_type": "subslide"
      }
     },
     "outputs": [],
     "prompt_number": 114
    },
    {
     "cell_type": "code",
     "collapsed": false,
     "input": [
      "from matplotlib.pyplot import plot, xlim, ylim\n",
      "from numpy import linspace\n",
      "from scipy.misc import factorial\n",
      "\n",
      "xs = linspace(0, 10, 1000)\n",
      "ys = factorial(xs)\n",
      "\n",
      "plot(xs, ys, 'g-')\n",
      "plot(xs, xs, 'r-')\n",
      "\n",
      "#ylim(0, 10)\n",
      "#xlim(0, 10)"
     ],
     "language": "python",
     "metadata": {
      "slideshow": {
       "slide_type": "subslide"
      }
     },
     "outputs": [
      {
       "metadata": {},
       "output_type": "pyout",
       "prompt_number": 120,
       "text": [
        "[<matplotlib.lines.Line2D at 0x7f7a06a14c90>]"
       ]
      },
      {
       "metadata": {},
       "output_type": "display_data",
       "png": "[encoded data removed]",
       "text": [
        "<matplotlib.figure.Figure at 0x7f7a06a14bd0>"
       ]
      }
     ],
     "prompt_number": 120
    },
    {
     "cell_type": "code",
     "collapsed": false,
     "input": [
      "from matplotlib.pyplot import plot, xlim, ylim\n",
      "from numpy import array\n",
      "\n",
      "         #input: output\n",
      "xor_nn = {(0,0): 0,\n",
      "          (0,1): 1,\n",
      "          (1,0): 1,\n",
      "          (1,1): 0}\n",
      "\n",
      "plot(array(xor_nn.keys())[:,0], array(xor_nn.keys())[:,1])"
     ],
     "language": "python",
     "metadata": {
      "slideshow": {
       "slide_type": "subslide"
      }
     },
     "outputs": [
      {
       "metadata": {},
       "output_type": "pyout",
       "prompt_number": 127,
       "text": [
        "[<matplotlib.lines.Line2D at 0x7f7a068e3a10>]"
       ]
      },
      {
       "metadata": {},
       "output_type": "display_data",
       "png": "[encoded data removed]",
       "text": [
        "<matplotlib.figure.Figure at 0x7f7a09750110>"
       ]
      }
     ],
     "prompt_number": 127
    },
    {
     "cell_type": "code",
     "collapsed": false,
     "input": [
      "xor_zeros = array([k for k,v in xor_nn.items() if v == 0])\n",
      "xor_ones  = array([k for k,v in xor_nn.items() if v == 1])\n",
      "\n",
      "plot(xor_zeros[:,0], xor_zeros[:,1],\n",
      "     color='blue', linestyle='None',\n",
      "     marker='$0$', markerfacecolor= 'red', markersize=12)\n",
      "\n",
      "plot(xor_ones[:,0], xor_ones[:,1],\n",
      "     color='red', linestyle='None',\n",
      "     marker='$1$', markerfacecolor= 'red', markersize=12)\n",
      "\n",
      "xlim(-.1, 1.1)\n",
      "ylim(-.1, 1.1)"
     ],
     "language": "python",
     "metadata": {
      "slideshow": {
       "slide_type": "subslide"
      }
     },
     "outputs": [
      {
       "metadata": {},
       "output_type": "pyout",
       "prompt_number": 130,
       "text": [
        "(-0.1, 1.1)"
       ]
      },
      {
       "metadata": {},
       "output_type": "display_data",
       "png": "[encoded data removed]",
       "text": [
        "<matplotlib.figure.Figure at 0x7f7a0669be50>"
       ]
      }
     ],
     "prompt_number": 130
    },
    {
     "cell_type": "markdown",
     "metadata": {
      "slideshow": {
       "slide_type": "slide"
      }
     },
     "source": [
      "<h2 id=\"pandas\">Review: `pandas` and `pandas.DataFrame`</h2>"
     ]
    },
    {
     "cell_type": "code",
     "collapsed": false,
     "input": [
      "from pandas import DataFrame, DatetimeIndex\n",
      "from requests import get\n",
      "\n",
      "url = 'http://api.openweathermap.org/data/2.5/history/city?q=New%20York,US&start=1369728000'\n",
      "response = get(url)\n",
      "data = [x['main']['temp'] for x in response.json()['list']]\n",
      "index = DatetimeIndex([x['dt'] * 10**9 for x in response.json()['list']], tz='EST')\n",
      "df = DataFrame(data, columns=['temp'], index=index)\n",
      "df.head()"
     ],
     "language": "python",
     "metadata": {
      "slideshow": {
       "slide_type": "subslide"
      }
     },
     "outputs": [
      {
       "html": [
        "<div style=\"max-height:1000px;max-width:1500px;overflow:auto;\">\n",
        "<table border=\"1\" class=\"dataframe\">\n",
        "  <thead>\n",
        "    <tr style=\"text-align: right;\">\n",
        "      <th></th>\n",
        "      <th>temp</th>\n",
        "    </tr>\n",
        "  </thead>\n",
        "  <tbody>\n",
        "    <tr>\n",
        "      <th>2013-05-28 08:00:00-05:00</th>\n",
        "      <td> 281.36</td>\n",
        "    </tr>\n",
        "    <tr>\n",
        "      <th>2013-05-28 09:00:00-05:00</th>\n",
        "      <td> 281.12</td>\n",
        "    </tr>\n",
        "    <tr>\n",
        "      <th>2013-05-28 10:00:00-05:00</th>\n",
        "      <td> 281.21</td>\n",
        "    </tr>\n",
        "    <tr>\n",
        "      <th>2013-05-28 11:00:00-05:00</th>\n",
        "      <td> 284.30</td>\n",
        "    </tr>\n",
        "    <tr>\n",
        "      <th>2013-05-28 13:00:00-05:00</th>\n",
        "      <td> 287.42</td>\n",
        "    </tr>\n",
        "  </tbody>\n",
        "</table>\n",
        "</div>"
       ],
       "metadata": {},
       "output_type": "pyout",
       "prompt_number": 171,
       "text": [
        "                             temp\n",
        "2013-05-28 08:00:00-05:00  281.36\n",
        "2013-05-28 09:00:00-05:00  281.12\n",
        "2013-05-28 10:00:00-05:00  281.21\n",
        "2013-05-28 11:00:00-05:00  284.30\n",
        "2013-05-28 13:00:00-05:00  287.42"
       ]
      }
     ],
     "prompt_number": 171
    },
    {
     "cell_type": "code",
     "collapsed": false,
     "input": [
      "df.plot()"
     ],
     "language": "python",
     "metadata": {
      "slideshow": {
       "slide_type": "subslide"
      }
     },
     "outputs": [
      {
       "metadata": {},
       "output_type": "pyout",
       "prompt_number": 172,
       "text": [
        "<matplotlib.axes.AxesSubplot at 0x7f7a015d6750>"
       ]
      },
      {
       "metadata": {},
       "output_type": "display_data",
       "png": "[encoded data removed]",
       "text": [
        "<matplotlib.figure.Figure at 0x7f7a0160cd10>"
       ]
      }
     ],
     "prompt_number": 172
    },
    {
     "cell_type": "code",
     "collapsed": false,
     "input": [
      "df['tempC'] = df['temp'] - 273.15"
     ],
     "language": "python",
     "metadata": {
      "slideshow": {
       "slide_type": "subslide"
      }
     },
     "outputs": [],
     "prompt_number": 173
    },
    {
     "cell_type": "code",
     "collapsed": false,
     "input": [
      "df['tempC'].plot()"
     ],
     "language": "python",
     "metadata": {
      "slideshow": {
       "slide_type": "fragment"
      }
     },
     "outputs": [
      {
       "metadata": {},
       "output_type": "pyout",
       "prompt_number": 174,
       "text": [
        "<matplotlib.axes.AxesSubplot at 0x7f7a014a9a90>"
       ]
      },
      {
       "metadata": {},
       "output_type": "display_data",
       "png": "[encoded data removed]",
       "text": [
        "<matplotlib.figure.Figure at 0x7f7a014cde90>"
       ]
      }
     ],
     "prompt_number": 174
    },
    {
     "cell_type": "code",
     "collapsed": false,
     "input": [
      "df['tempF'] = df['tempC'] * 9/5 + 32\n",
      "df['tempF'].plot()"
     ],
     "language": "python",
     "metadata": {
      "slideshow": {
       "slide_type": "subslide"
      }
     },
     "outputs": [
      {
       "metadata": {},
       "output_type": "pyout",
       "prompt_number": 178,
       "text": [
        "<matplotlib.axes.AxesSubplot at 0x7f7a0132c190>"
       ]
      },
      {
       "metadata": {},
       "output_type": "display_data",
       "png": "[encoded data removed]",
       "text": [
        "<matplotlib.figure.Figure at 0x7f7a0132c710>"
       ]
      }
     ],
     "prompt_number": 178
    }
   ],
   "metadata": {}
  }
 ]
}